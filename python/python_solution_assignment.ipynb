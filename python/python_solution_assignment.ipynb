{
 "cells": [
  {
   "cell_type": "markdown",
   "metadata": {
    "id": "jts-YojnwPBh"
   },
   "source": [
    "# Python Assignment Solutions\n",
    "\n",
    "### Question 1: Rock, Paper, Scissors Game\n",
    "\n",
    "Write code for a Rock, Paper, Scissors game using the `random` module in Python.\n",
    "- The program should randomly select an option for the computer.\n",
    "- Compare it with the user's choice to determine the winner.\n",
    "\n",
    "Example output:\n",
    "```\n",
    "User: scissors\n",
    "Computer: paper\n",
    "User Won!\n",
    "```"
   ]
  },
  {
   "cell_type": "code",
   "execution_count": null,
   "metadata": {
    "colab": {
     "base_uri": "https://localhost:8080/"
    },
    "executionInfo": {
     "elapsed": 4589,
     "status": "ok",
     "timestamp": 1721400888360,
     "user": {
      "displayName": "Samip Neupane",
      "userId": "08241621723804647931"
     },
     "user_tz": -345
    },
    "id": "FF0hczY-wLI_",
    "outputId": "1da6656e-a015-4205-e4e5-5e3b4021e1e4"
   },
   "outputs": [],
   "source": [
    "# code here\n",
    "import random\n",
    "\n",
    "events = [\"rock\", \"paper\", \"scissors\"]\n",
    "\n",
    "user_event = input(\"Enter your event: \")\n",
    "computer_event = random.choice(events)\n",
    "\n",
    "print(f\"\\nUser: {user_event}\")\n",
    "print(f\"Computer: {computer_event}\")\n",
    "\n",
    "\n",
    "if user_event == computer_event:\n",
    "    print(\"Draw\")\n",
    "\n",
    "elif (user_event == \"rock\" and computer_event == \"scissors\") or \\\n",
    "    (user_event == \"paper\" and computer_event == \"rock\") or \\\n",
    "    (user_event == \"scissors\" and computer_event == \"paper\"):\n",
    "    print(\"User Won\")\n",
    "\n",
    "else:\n",
    "    print(\"Computer Won\")"
   ]
  },
  {
   "cell_type": "markdown",
   "metadata": {
    "id": "7btGgExFwQBl"
   },
   "source": [
    "### Question 2: Filtering and Sorting Lists\n",
    "\n",
    "Filter and sort the elements into three separate lists in ascending order:\n",
    "\n",
    "`int_list_sorted: `\n",
    "A list of integers sorted in ascending order.\n",
    "\n",
    "`float_list_sorted: `\n",
    "A list of floats sorted in ascending order.\n",
    "\n",
    "`string_list_sorted: `\n",
    "A list of strings sorted in ascending order.\n",
    "```\n",
    "example_list = [1, \"ram\", 3.54, None, 3, \"Sita\", True, 6, \"Hari\", 4.66, False, None, -12, 67.4, 100, \"Ram\", True]\n",
    "```"
   ]
  },
  {
   "cell_type": "code",
   "execution_count": null,
   "metadata": {
    "colab": {
     "base_uri": "https://localhost:8080/"
    },
    "executionInfo": {
     "elapsed": 502,
     "status": "ok",
     "timestamp": 1721400897104,
     "user": {
      "displayName": "Samip Neupane",
      "userId": "08241621723804647931"
     },
     "user_tz": -345
    },
    "id": "LDTq_7lhwQK3",
    "outputId": "84a13c0d-5b4b-458a-d116-13b3d38b09a4"
   },
   "outputs": [],
   "source": [
    "# code here\n",
    "example_list = [1, \"ram\", 3.54, None, 3, \"Sita\", True, 6, \"Hari\", 4.66, False, None, -12, 67.4, 100, \"Ram\", True]\n",
    "\n",
    "int_list = [x for x in example_list if type(x) ==  int]\n",
    "float_list = [x for x in example_list if type(x) == float]\n",
    "string_list = [x for x in example_list if type(x) == str]\n",
    "\n",
    "int_list_sorted = sorted(int_list)\n",
    "float_list_sorted = sorted(float_list)\n",
    "string_list_sorted = sorted(string_list)\n",
    "\n",
    "print(\"Sorted integer list:\", int_list_sorted)\n",
    "print(\"Sorted float list:\", float_list_sorted)\n",
    "print(\"Sorted string list:\", string_list_sorted)"
   ]
  },
  {
   "cell_type": "markdown",
   "metadata": {
    "id": "A06mw1n3wQT1"
   },
   "source": [
    "### Question 3: Convert While Loop to For Loop\n",
    "Convert the following while loop to a for loop:\n",
    "```\n",
    "odd_list = [num for num in range(11, 21, 2)]\n",
    "prime_list = [11, 13, 17, 19]\n",
    "\n",
    "i = 0\n",
    "while i < len(odd_list):\n",
    "\n",
    "  if odd_list[i] % 2 != 0:\n",
    "    print(f\"\\n{odd_list[i]} is an odd number:\")\n",
    "\n",
    "    j = 0\n",
    "    while j < len(prime_list):\n",
    "\n",
    "      if odd_list[i] == prime_list[j]:\n",
    "        print(\"It is also a prime number\")\n",
    "        break\n",
    "\n",
    "      j += 1\n",
    "  i += 1\n",
    "```"
   ]
  },
  {
   "cell_type": "code",
   "execution_count": null,
   "metadata": {
    "colab": {
     "base_uri": "https://localhost:8080/"
    },
    "executionInfo": {
     "elapsed": 517,
     "status": "ok",
     "timestamp": 1721400935211,
     "user": {
      "displayName": "Samip Neupane",
      "userId": "08241621723804647931"
     },
     "user_tz": -345
    },
    "id": "PVF_fT_iwQaw",
    "outputId": "af83f43b-c7f2-4dc8-de7e-0ad96e429611"
   },
   "outputs": [],
   "source": [
    "# code here\n",
    "odd_list = [num for num in range(11, 21, 2)]\n",
    "prime_list = [11, 13, 17, 19]\n",
    "\n",
    "for odd_num in odd_list:\n",
    "\n",
    "    if odd_num % 2 != 0:\n",
    "        print(f\"\\n{odd_num} is an odd number:\")\n",
    "\n",
    "        if odd_num in prime_list:\n",
    "            print(\"It is also a prime number\")"
   ]
  },
  {
   "cell_type": "markdown",
   "metadata": {
    "id": "LjwdodPhGC-B"
   },
   "source": [
    "### Question 4:\n",
    "Write a Python program that prints the numbers from 1 to 50. For multiples of 3, print \"Tech\" instead of the number, and for multiples of 5, print \"Axis\". For numbers which are multiples of both 3 and 5, print \"TechAxis\".\n",
    "\n",
    "```\n",
    "Expected Output:\n",
    "1, 2, Tech, 4, Axis, Tech, 7, 8, Tech, Axis, 11, Tech, 13, 14, TechAxis ....\n",
    "```"
   ]
  },
  {
   "cell_type": "code",
   "execution_count": null,
   "metadata": {
    "colab": {
     "base_uri": "https://localhost:8080/"
    },
    "executionInfo": {
     "elapsed": 486,
     "status": "ok",
     "timestamp": 1721401576569,
     "user": {
      "displayName": "Samip Neupane",
      "userId": "08241621723804647931"
     },
     "user_tz": -345
    },
    "id": "tW4ZxuP6GEp3",
    "outputId": "56677407-2f4a-41c8-bbdc-e3354941e55c"
   },
   "outputs": [],
   "source": [
    "for num in range(1, 51):\n",
    "    if num % 3 == 0 and num % 5 == 0:\n",
    "        print(\"TechAxis\")\n",
    "    elif num % 3 == 0:\n",
    "        print(\"Tech\")\n",
    "    elif num % 5 == 0:\n",
    "        print(\"Axis\")\n",
    "    else:\n",
    "        print(num)"
   ]
  },
  {
   "cell_type": "markdown",
   "metadata": {
    "id": "PjaJVkUMG1pS"
   },
   "source": [
    "### Question 5:\n",
    "Write a Python program that functions as a simple calculator. It should be able to perform addition, subtraction, multiplication, and division operations.<br>\n",
    "Use function for each operations.<br>\n",
    "Try exception handling for division by zero error.\n",
    "\n",
    "Example Output:\n",
    "```\n",
    "operation = divide\n",
    "x = 5\n",
    "y = 2\n",
    "Result: 2.5\n",
    "```"
   ]
  },
  {
   "cell_type": "code",
   "execution_count": null,
   "metadata": {
    "colab": {
     "base_uri": "https://localhost:8080/"
    },
    "executionInfo": {
     "elapsed": 12610,
     "status": "ok",
     "timestamp": 1721401445590,
     "user": {
      "displayName": "Samip Neupane",
      "userId": "08241621723804647931"
     },
     "user_tz": -345
    },
    "id": "B2L0n5uMG3Q4",
    "outputId": "5c6c1a84-a6e7-4c82-8cb3-4eb62a5677e0"
   },
   "outputs": [],
   "source": [
    "def add(x, y):\n",
    "    return x + y\n",
    "\n",
    "def subtract(x, y):\n",
    "    return x - y\n",
    "\n",
    "def multiply(x, y):\n",
    "    return x * y\n",
    "\n",
    "def divide(x, y):\n",
    "  try:\n",
    "    return x / y\n",
    "  except ZeroDivisionError:\n",
    "    return \"Cannot divide by zero!\"\n",
    "\n",
    "# User input\n",
    "operation = input(\"operation (add, subtract, multiply, divide): \").strip().lower()\n",
    "num1 = float(input(\"x = \"))\n",
    "num2 = float(input(\"y = \"))\n",
    "\n",
    "if operation == \"add\":\n",
    "    print(f\"Result: {add(num1, num2)}\")\n",
    "elif operation == \"subtract\":\n",
    "    print(f\"Result: {subtract(num1, num2)}\")\n",
    "elif operation == \"multiply\":\n",
    "    print(f\"Result: {multiply(num1, num2)}\")\n",
    "elif operation == \"divide\":\n",
    "    print(f\"Result: {divide(num1, num2)}\")\n",
    "else:\n",
    "    print(\"Invalid operation selected!\")\n"
   ]
  }
 ],
 "metadata": {
  "colab": {
   "provenance": []
  },
  "kernelspec": {
   "display_name": "Python 3 (ipykernel)",
   "language": "python",
   "name": "python3"
  },
  "language_info": {
   "codemirror_mode": {
    "name": "ipython",
    "version": 3
   },
   "file_extension": ".py",
   "mimetype": "text/x-python",
   "name": "python",
   "nbconvert_exporter": "python",
   "pygments_lexer": "ipython3",
   "version": "3.11.5"
  }
 },
 "nbformat": 4,
 "nbformat_minor": 1
}
