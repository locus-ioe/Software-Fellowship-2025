{
 "cells": [
  {
   "cell_type": "markdown",
   "metadata": {
    "id": "Yl4fu235jAGk"
   },
   "source": [
    "# 1. Basics of Classes and Objects in Python"
   ]
  },
  {
   "cell_type": "markdown",
   "metadata": {
    "id": "gTuvzAPyfaBR"
   },
   "source": [
    "### Class\n",
    "- A class is a blueprint for creating objects.\n",
    "- It defines a set of attributes and methods that the created objects will have.\n",
    "\n",
    "### Object\n",
    "- An object is an instance of a class.\n",
    "- It can have its own unique data and share the common structure and behavior defined by the class.\n",
    "\n",
    "### Constructor\n",
    "- A constructor is a special method called when an object is instantiated.\n",
    "- In Python, the `__init__` method is used as a constructor.\n",
    "- It initializes the object's attributes.\n",
    "\n",
    "### Self\n",
    "- The `self` parameter in method definitions is a reference to the current instance of the class.\n",
    "- It allows access to the attributes and methods of the class in the object context.\n",
    "\n",
    "### Methods\n",
    "- Methods are functions defined inside a class that describe the behaviors of the objects.\n",
    "- They can operate on data contained within the object.\n"
   ]
  },
  {
   "cell_type": "code",
   "execution_count": null,
   "metadata": {
    "id": "Tg4r8DktbrNG"
   },
   "outputs": [],
   "source": [
    "class Person:\n",
    "    #constructor\n",
    "    def __init__(self, name = \"Unknown name\", school = \"Unknown school\"):\n",
    "      #variables can be declared in constructer\n",
    "      self.nation = \"Nepal\"\n",
    "      self.name = name\n",
    "      self.school = school\n",
    "\n",
    "    def person_name(self):\n",
    "      print(f\"Hello {self.name}, welcome! So you are in {self.nation}\")\n",
    "\n",
    "    def person_school(self):\n",
    "      print(f\"I read in {self.school}\")\n",
    "\n",
    "    def change_country(self, nation):\n",
    "      self.nation = nation"
   ]
  },
  {
   "cell_type": "code",
   "execution_count": null,
   "metadata": {
    "colab": {
     "base_uri": "https://localhost:8080/"
    },
    "executionInfo": {
     "elapsed": 1774,
     "status": "ok",
     "timestamp": 1721400749080,
     "user": {
      "displayName": "Samip Neupane",
      "userId": "08241621723804647931"
     },
     "user_tz": -345
    },
    "id": "lfKM-4iRpwd7",
    "outputId": "b58bf5b9-f703-44b9-9706-027aadcdabf0"
   },
   "outputs": [],
   "source": [
    "#creating objects\n",
    "obj1 = Person()\n",
    "obj2 = Person(\"John\")\n",
    "obj3 = Person(school = \"Durbar High School\")\n",
    "obj4 = Person(\"Ram\", \"St. Joseph\")\n",
    "obj5 = Person(school = \"Siddhartha Vanasthali\", name = \"Samip\")    # when you forget order\n",
    "\n",
    "#calling methods\n",
    "obj1.person_name()\n",
    "obj1.person_school()\n",
    "obj1.change_country(\"USA\")\n",
    "obj1.person_name()\n",
    "\n",
    "#try calling methods for all created objects - obj1 to obj5"
   ]
  },
  {
   "cell_type": "markdown",
   "metadata": {
    "id": "cUdyYzL9jEML"
   },
   "source": [
    "# 2. Class Inheritance in Python"
   ]
  },
  {
   "cell_type": "markdown",
   "metadata": {
    "id": "D2U4XHG6itPi"
   },
   "source": [
    "\n",
    "\n",
    "Inheritance is one of the fundamental principles of Object-Oriented Programming (OOP) that allows a class (called a child class or subclass) to inherit attributes and methods from another class (called a parent class or superclass). This promotes code reusability and establishes a natural hierarchy between classes.\n",
    "\n",
    "1. **Parent Class (Superclass)**:\n",
    "    - The class whose properties and methods are inherited by another class.\n",
    "    - Example: `Animal` class in the code.\n",
    "\n",
    "2. **Child Class (Subclass)**:\n",
    "    - The class that inherits from the parent class.\n",
    "    - It can have additional attributes and methods.\n",
    "    - Examples: `Bird` and `FlyingBird` classes in the code.\n",
    "\n",
    "3. **Inheritance Syntax**:\n",
    "    - The child class is defined by placing the parent class name in parentheses after the child class name.\n",
    "    - Example:\n",
    "      ```python\n",
    "      class Bird(Animal):\n",
    "      ```\n",
    "\n",
    "4. **Method Overriding**:\n",
    "    - A child class can override or extend the functionalities of methods from the parent class.\n",
    "    - Example: Not shown in the provided code, but the child class can redefine a method from the parent class.\n",
    "\n",
    "5. **Calling Parent Class Methods**:\n",
    "    - Child class instances can call methods defined in the parent class.\n",
    "    - Example:\n",
    "      ```python\n",
    "      obj1.breathe()\n",
    "      ```\n",
    "\n",
    "6. **`super()` Function**:\n",
    "    - it allows calling the parent class's methods explicitly and can be useful when extending the functionalities of the parent class methods."
   ]
  },
  {
   "cell_type": "code",
   "execution_count": null,
   "metadata": {
    "id": "78yfgr9WgyBp"
   },
   "outputs": [],
   "source": [
    "class Animal:\n",
    "  def __init__(self, animal_name):\n",
    "    self.name = animal_name\n",
    "\n",
    "  def breathe(self):\n",
    "    print(f\"{self.name} can breathe\")\n",
    "\n",
    "\n",
    "\n",
    "class Bird(Animal):\n",
    "  def __init__(self, animal_name):\n",
    "    # Calling the parent class's __init__ method\n",
    "    super().__init__(animal_name)\n",
    "\n",
    "  def egg(self):\n",
    "    print(f\"{self.name} can lay egg\")\n",
    "\n",
    "  def two_legs(self):\n",
    "    print(f\"{self.name} has two legs\")\n",
    "\n",
    "\n",
    "\n",
    "class FlyingBird(Bird):\n",
    "  def __init__(self, animal_name):\n",
    "    super().__init__(animal_name)\n",
    "\n",
    "  def fly(self):\n",
    "    print(f\"{self.name} can fly\")"
   ]
  },
  {
   "cell_type": "code",
   "execution_count": null,
   "metadata": {
    "colab": {
     "base_uri": "https://localhost:8080/"
    },
    "executionInfo": {
     "elapsed": 7,
     "status": "ok",
     "timestamp": 1721400759048,
     "user": {
      "displayName": "Samip Neupane",
      "userId": "08241621723804647931"
     },
     "user_tz": -345
    },
    "id": "teImBWP1lg9t",
    "outputId": "30c7fc42-7017-406c-b9af-a7c6c6ffeb97"
   },
   "outputs": [],
   "source": [
    "#making objects\n",
    "obj1 = Bird(\"Ostrich\")\n",
    "obj2 = FlyingBird(\"Eagle\")\n",
    "\n",
    "#calling methods for obj1\n",
    "obj1.breathe()\n",
    "obj1.egg()\n",
    "obj1.two_legs()\n",
    "\n",
    "print(\"\\n\")\n",
    "#calling methods for obj2\n",
    "obj2.breathe()\n",
    "obj2.egg()\n",
    "obj2.two_legs()\n",
    "obj2.fly()"
   ]
  },
  {
   "cell_type": "markdown",
   "metadata": {
    "id": "Fgy7ckM4jKU9"
   },
   "source": [
    "# 3. Operator Overloading in Python"
   ]
  },
  {
   "cell_type": "markdown",
   "metadata": {
    "id": "gR5gYZoamSV7"
   },
   "source": [
    "Operator overloading allows us to define custom behavior for the standard operators (`+`, `-`, `*`, `%`, etc.) for user-defined classes. This is achieved by defining special methods within our class. These special methods have double underscores at the beginning and the end, often referred to as \"dunder methods\".\n",
    "\n",
    "1. **Addition (`__add__` method)**:\n",
    "   - Overloads the `+` operator. It allows us to add two `Vector` objects by adding their corresponding components.\n",
    "\n",
    "2. **Subtraction (`__sub__` method)**:\n",
    "   - Overloads the `-` operator. It allows us to subtract the components of one `Vector` object from another.\n",
    "\n",
    "3. **Multiplication (`__mul__` method)**:\n",
    "   - Overloads the `*` operator. It allows us to multiply the corresponding components of two `Vector` objects.\n",
    "\n",
    "4. **Modulo (`__mod__` method)**:\n",
    "   - Overloads the `%` operator. It allows us to compute the remainder of the division of the corresponding components of two `Vector` objects.\n",
    "\n",
    "5. **String Representation (`__str__` method)**:\n",
    "   - Overloads the `str()` function. It provides a human-readable string representation of the `Vector` object, displaying it in the form `i + j + k`.\n",
    "\n",
    "\n",
    "\n",
    "\n",
    "**Unary Operators**:\n",
    "   - `__neg__(self)` : Negation (`-self`)\n",
    "   - `__pos__(self)` : Unary Plus (`+self`)\n",
    "   - `__abs__(self)` : Absolute Value (`abs(self)`)\n",
    "\n",
    "**Comparison Operators**:\n",
    "   - `__lt__(self, other)` : Less Than (`<`)\n",
    "   - `__le__(self, other)` : Less Than or Equal To (`<=`)\n",
    "   - `__eq__(self, other)` : Equal To (`==`)\n",
    "   - `__ne__(self, other)` : Not Equal To (`!=`)\n",
    "   - `__gt__(self, other)` : Greater Than (`>`)\n",
    "   - `__ge__(self, other)` : Greater Than or Equal To (`>=`)\n",
    "\n",
    "**Bitwise Operators**:\n",
    "   - `__and__(self, other)` : Bitwise AND (`&`)\n",
    "   - `__or__(self, other)` : Bitwise OR (`|`)\n",
    "   - `__xor__(self, other)` : Bitwise XOR (`^`)\n",
    "   \n",
    "**String Conversion Methods**:\n",
    "   - `__str__(self)` : String Conversion (`str()`)\n",
    "   - `__repr__(self)` : Official String Representation (`repr()`)\n",
    "\n",
    "For a complete list of operator overloading methods, you can explore more on the internet."
   ]
  },
  {
   "cell_type": "code",
   "execution_count": null,
   "metadata": {
    "id": "ByFfnyFCjI0e"
   },
   "outputs": [],
   "source": [
    "class Vector:\n",
    "  def __init__(self, i, j, k):\n",
    "    self.i = i\n",
    "    self.j = j\n",
    "    self.k = k\n",
    "\n",
    "  def __add__(self, x):\n",
    "    return Vector(self.i + x.i,  self.j + x.j, self.k + x.k)\n",
    "\n",
    "  def __sub__(self, x):\n",
    "    return Vector(self.i - x.i,  self.j - x.j, self.k - x.k)\n",
    "\n",
    "  def __mul__(self, x):\n",
    "    return Vector(self.i * x.i,  self.j * x.j, self.k * x.k)\n",
    "\n",
    "  def __mod__(self, x):\n",
    "    return Vector(self.i % x.i,  self.j % x.j, self.k % x.k)\n",
    "\n",
    "  def __str__(self):\n",
    "    return f\"{self.i}i + {self.j}j + {self.k}k\""
   ]
  },
  {
   "cell_type": "code",
   "execution_count": null,
   "metadata": {
    "colab": {
     "base_uri": "https://localhost:8080/"
    },
    "executionInfo": {
     "elapsed": 516,
     "status": "ok",
     "timestamp": 1721400768260,
     "user": {
      "displayName": "Samip Neupane",
      "userId": "08241621723804647931"
     },
     "user_tz": -345
    },
    "id": "w0X_ZzBPptFU",
    "outputId": "d8792cc1-dda9-4f24-ef15-f3b436a70eec"
   },
   "outputs": [],
   "source": [
    "vector1 = Vector(1, 2, 3)\n",
    "vector2 = Vector(4, 5, 6)\n",
    "\n",
    "print(vector1 + vector2)\n",
    "print(vector1 - vector2)\n",
    "print(vector1 * vector2)\n",
    "print(vector1 % vector2)"
   ]
  },
  {
   "cell_type": "markdown",
   "metadata": {
    "id": "Qtuzbm-BjSCO"
   },
   "source": [
    "# 4. Context Managers in Python"
   ]
  },
  {
   "cell_type": "markdown",
   "metadata": {
    "id": "dru6ovh4ro6k"
   },
   "source": [
    "Context managers are an essential feature in Python that allow for resource management, such as opening and closing files. They provide a way to ensure that resources are properly cleaned up after use, even if an error occurs. Let's explore the concepts using two methods for managing a file resource.\n",
    "\n",
    "### Method 1: Using Basic File Operations\n",
    "- Method 1 requires explicit calls to `close()`, which can be prone to errors if the file is not closed properly (e.g., due to an exception).\n",
    "- The file may remain open, leading to potential resource leakage.\n",
    "\n",
    "### Method 2: Using a Custom Context Manager\n",
    "- Method 2 uses a context manager to automatically handle the closing of the file, ensuring that it is always closed, even if an error occurs.\n",
    "- The `__exit__` method of the context manager is always called, providing a reliable way to clean up resources."
   ]
  },
  {
   "cell_type": "code",
   "execution_count": null,
   "metadata": {
    "colab": {
     "base_uri": "https://localhost:8080/"
    },
    "executionInfo": {
     "elapsed": 484,
     "status": "ok",
     "timestamp": 1721400772020,
     "user": {
      "displayName": "Samip Neupane",
      "userId": "08241621723804647931"
     },
     "user_tz": -345
    },
    "id": "oLyor0BgsANO",
    "outputId": "e617ac2a-6fbb-4453-833f-8e6e2f433606"
   },
   "outputs": [],
   "source": [
    "# Method 1: Using Basic File Operations\n",
    "\n",
    "f1 = open('sample.txt', 'w')\n",
    "f1.write('Testing 1')\n",
    "\n",
    "print(f1.closed)\n",
    "f1.close()\n",
    "print(f1.closed)"
   ]
  },
  {
   "cell_type": "code",
   "execution_count": null,
   "metadata": {
    "id": "ZGT3iLK_mV3g"
   },
   "outputs": [],
   "source": [
    "# Method 2: Using a Custom Context Manager\n",
    "\n",
    "class Open_File():\n",
    "  def __init__(self, filename, mode):\n",
    "    self.filename = filename\n",
    "    self.mode = mode\n",
    "\n",
    "  def __enter__(self):\n",
    "    self.file= open(self.filename, self.mode)\n",
    "    return self.file\n",
    "\n",
    "  def __exit__(self, exc_type, exc_val, traceback):\n",
    "    self.file.close()"
   ]
  },
  {
   "cell_type": "code",
   "execution_count": null,
   "metadata": {
    "colab": {
     "base_uri": "https://localhost:8080/"
    },
    "executionInfo": {
     "elapsed": 6,
     "status": "ok",
     "timestamp": 1721400775974,
     "user": {
      "displayName": "Samip Neupane",
      "userId": "08241621723804647931"
     },
     "user_tz": -345
    },
    "id": "Auq2GYGqr0-7",
    "outputId": "772920a7-d048-4ec8-ac30-7487236b4f77"
   },
   "outputs": [],
   "source": [
    "with Open_File('sample.txt', 'w') as f2:\n",
    "  f2.write('Testing 2')\n",
    "\n",
    "print (f2.closed)"
   ]
  },
  {
   "cell_type": "markdown",
   "metadata": {
    "id": "ikqOXPBcjWps"
   },
   "source": [
    "# 5. Dictionary Comprehension"
   ]
  },
  {
   "cell_type": "markdown",
   "metadata": {
    "id": "Fz3xuoT8C_G1"
   },
   "source": [
    "Dictionary Comprehension allows us to create new dictionary from an iterable.\n",
    "\n",
    "The general format is:\n",
    "```python\n",
    "new_dict = {key_expression: value_expression for item in iterable}\n",
    "```\n",
    "\\\\\n",
    "Suppose we have a list `numbers = [1, 2, 3, 4, 5]`. We want to create a dictionary such that its `keys` are the items of `numbers` and `values` are square of the corresponding `keys`.\n",
    "\n",
    "How can we solve this?\n",
    "\n",
    "```python\n",
    "new_dict = {new_key: new_value for item in list}\n",
    "```"
   ]
  },
  {
   "cell_type": "code",
   "execution_count": null,
   "metadata": {
    "colab": {
     "base_uri": "https://localhost:8080/"
    },
    "executionInfo": {
     "elapsed": 13,
     "status": "ok",
     "timestamp": 1721497997024,
     "user": {
      "displayName": "Samip Neupane",
      "userId": "08241621723804647931"
     },
     "user_tz": -345
    },
    "id": "vQ0CyraFHAor",
    "outputId": "a1a2118e-dd4c-4724-9ed4-06f75e37e5de"
   },
   "outputs": [],
   "source": [
    "numbers = [1, 2, 3, 4, 5]\n",
    "\n",
    "# Apply Dictionary Comprehension\n",
    "my_dict = {num: num**2 for num in numbers}\n",
    "\n",
    "print(my_dict)"
   ]
  },
  {
   "cell_type": "markdown",
   "metadata": {
    "id": "Gz5DErq5HmGC"
   },
   "source": [
    "Now, what should we do if we only want `odd` items as `keys` in our new dictionary?\n",
    "\n",
    "Similar to `conditional list comprehension`, we can use `conditional dictionary comprehension` .\n",
    "\n",
    "The format for conditional dictionary comprehension is:\n",
    "```python\n",
    "new_dict = {new_key: new_value for item in iterable if condition}\n",
    "```"
   ]
  },
  {
   "cell_type": "code",
   "execution_count": null,
   "metadata": {
    "colab": {
     "base_uri": "https://localhost:8080/"
    },
    "executionInfo": {
     "elapsed": 444,
     "status": "ok",
     "timestamp": 1721498009956,
     "user": {
      "displayName": "Samip Neupane",
      "userId": "08241621723804647931"
     },
     "user_tz": -345
    },
    "id": "VOl4WjF_IsBk",
    "outputId": "09ccd6e9-0b10-4fe3-d2fb-a59624947087"
   },
   "outputs": [],
   "source": [
    "numbers = [1, 2, 3, 4, 5]\n",
    "\n",
    "# Apply conditional dictionary comprehension\n",
    "my_dict = {num: num**2 for num in numbers if (num % 2) != 0}\n",
    "\n",
    "print(my_dict)"
   ]
  },
  {
   "cell_type": "markdown",
   "metadata": {
    "id": "sGadNKF0I7WI"
   },
   "source": [
    "You may have noticed that till now we have only created dictionary from a list.\n",
    "\n",
    "How can we create a new dictionary from an existing dictionary using dictionary comprehension?\n",
    "\n",
    "\\\\\n",
    "The format is:\n",
    "```python\n",
    "new_dict = {new_key: new_value for (key, value) in old_dict.items() if condition}\n",
    "```\n",
    "\\\\\n",
    "Now, what does items() method do in a dictionary?\n",
    "\n",
    "- It returns a list of key-value pairs of a dictionary as [(key1, value1), (key2, value2), ..... , (keyn, valuen)].\n",
    "\n",
    "\n"
   ]
  },
  {
   "cell_type": "code",
   "execution_count": null,
   "metadata": {
    "colab": {
     "base_uri": "https://localhost:8080/"
    },
    "executionInfo": {
     "elapsed": 632,
     "status": "ok",
     "timestamp": 1721498234636,
     "user": {
      "displayName": "Samip Neupane",
      "userId": "08241621723804647931"
     },
     "user_tz": -345
    },
    "id": "S_MI5exJxQ7p",
    "outputId": "b5d0ee1d-3cd4-4e80-8697-da726e52317b"
   },
   "outputs": [],
   "source": [
    "old_dict = {'a': 1, 'b': 2, 'c': 3, 'd': 4, 'e': 5}\n",
    "print(old_dict, \"\\n\")\n",
    "\n",
    "# Creating a new dictionary from old dictionary (square of the value)\n",
    "new_dict = {key: value**2 for key, value in old_dict.items()}\n",
    "print(new_dict, \"\\n\")\n",
    "\n",
    "# Conditional Dictionary Comprehension\n",
    "new_dict = {key: value**2 for key, value in old_dict.items() if key < 'd'}\n",
    "print(new_dict)"
   ]
  },
  {
   "cell_type": "markdown",
   "metadata": {
    "id": "A1a07wlQEguE"
   },
   "source": [
    "### ACTIVITY - 1\n",
    "You have a dictionary containing the names and ages of several people. Create a new dictionary that includes only those people who are above 25 using dictionary comprehension."
   ]
  },
  {
   "cell_type": "code",
   "execution_count": null,
   "metadata": {
    "id": "OuWa2_itEyqc"
   },
   "outputs": [],
   "source": [
    "people = {\n",
    "    'Alice': 25,\n",
    "    'Bob': 30,\n",
    "    'Charlie': 17,\n",
    "    'David': 20,\n",
    "    'Eve': 35\n",
    "}\n",
    "# code here"
   ]
  },
  {
   "cell_type": "markdown",
   "metadata": {
    "id": "kphPUwcpjg1n"
   },
   "source": [
    "# 6. Set Comprehension"
   ]
  },
  {
   "cell_type": "markdown",
   "metadata": {
    "id": "14ug05wmFCOB"
   },
   "source": [
    "\n",
    "Similarly, set comprehension is possible as well.\n",
    "\n",
    "\\\\\n",
    "The format for set comprehension is:\n",
    "```python\n",
    "{expression for item in iterable if condition}\n",
    "```"
   ]
  },
  {
   "cell_type": "code",
   "execution_count": null,
   "metadata": {
    "colab": {
     "base_uri": "https://localhost:8080/"
    },
    "executionInfo": {
     "elapsed": 435,
     "status": "ok",
     "timestamp": 1721498370008,
     "user": {
      "displayName": "Samip Neupane",
      "userId": "08241621723804647931"
     },
     "user_tz": -345
    },
    "id": "oDSu6J2E0FL4",
    "outputId": "bae02c2b-1c7f-4024-844d-19e09a89eb2d"
   },
   "outputs": [],
   "source": [
    "# Set comprehension using range function\n",
    "my_set = {num**2 for num in range(1, 6)}\n",
    "print(my_set)"
   ]
  },
  {
   "cell_type": "code",
   "execution_count": null,
   "metadata": {
    "colab": {
     "base_uri": "https://localhost:8080/"
    },
    "executionInfo": {
     "elapsed": 411,
     "status": "ok",
     "timestamp": 1721498374294,
     "user": {
      "displayName": "Samip Neupane",
      "userId": "08241621723804647931"
     },
     "user_tz": -345
    },
    "id": "2F4vsPe-0XEl",
    "outputId": "63512f9c-4a82-4c05-8e46-df655d68a1c6"
   },
   "outputs": [],
   "source": [
    "# Conditional set comprehension\n",
    "my_set = {num**2 for num in range(1, 6) if num >= 3}\n",
    "print(my_set)"
   ]
  },
  {
   "cell_type": "markdown",
   "metadata": {
    "id": "4xoVfkivFLFS"
   },
   "source": [
    "### ACTIVITY - 2\n",
    "You have a list of words. Create a new set that contains the lengths of each word using set comprehension.\n",
    "\n",
    "\n",
    "Hint: Use len() function"
   ]
  },
  {
   "cell_type": "code",
   "execution_count": null,
   "metadata": {
    "id": "4_rrvo4HFaF5"
   },
   "outputs": [],
   "source": [
    "words = [\"apple\", \"banana\", \"cherry\", \"date\", \"elderberry\", \"fig\", \"grape\"]\n",
    "# code here"
   ]
  },
  {
   "cell_type": "markdown",
   "metadata": {
    "id": "dsyFCiwt8phz"
   },
   "source": [
    "## Why not Tuple Comprehension?\n",
    "Tuples cannot be built via a comprehension. As we have seen that during list comprehension, a new list is created first and then an operation is performed on the elements in the list and then added to the new list one by one.\n",
    "\n",
    "\\\\\n",
    "Since, tuple are immutable and have fixed length, elements can't be added to tuples after they are created. But there are roundabout ways to achieve tuple comprehension like:\n",
    "- Perform a list comprehension and wrap the result in tuple() function.\n",
    "- Wrap a `generator` expression in a tuple() function.\n",
    "\n",
    "#### TOPICS YOU CAN EXPLORE!!\n",
    "- Tuple using generator expression\n",
    "- Tuple using list comprehension"
   ]
  },
  {
   "cell_type": "markdown",
   "metadata": {
    "id": "IL-BKZkTIOTX"
   },
   "source": [
    "# 7. Additional Topics on Functions"
   ]
  },
  {
   "cell_type": "markdown",
   "metadata": {
    "id": "-qUBSgJu5r1m"
   },
   "source": [
    "### Default Arguments\n",
    "* Parameters with default values if no arguments is provided.\n",
    "\n",
    "Note:Parameters with default values should be at the end."
   ]
  },
  {
   "cell_type": "code",
   "execution_count": null,
   "metadata": {
    "colab": {
     "base_uri": "https://localhost:8080/"
    },
    "executionInfo": {
     "elapsed": 414,
     "status": "ok",
     "timestamp": 1721498678977,
     "user": {
      "displayName": "Samip Neupane",
      "userId": "08241621723804647931"
     },
     "user_tz": -345
    },
    "id": "u_esl_u455pD",
    "outputId": "de7d27b6-aa6f-4d67-f35e-0dbaaf6d641c"
   },
   "outputs": [],
   "source": [
    "# Function definition\n",
    "def add_two_numbers(x, y = 10):     # IMP: Parameters with default values should be at the end\n",
    "    return x + y\n",
    "\n",
    "\n",
    "# Function call with keyword arguments\n",
    "sum = add_two_numbers(20)\n",
    "print(sum)\n",
    "\n",
    "sum2 = add_two_numbers(x = 12, y = 1)\n",
    "sum3 = add_two_numbers(12, 1)\n",
    "print(sum2)\n",
    "print(sum3)"
   ]
  },
  {
   "cell_type": "markdown",
   "metadata": {
    "id": "h9PtC0PU6qqZ"
   },
   "source": [
    "### Arbitary Arguments\n",
    "* Using `*args` and `**kwargs` to accept a variable number of arguments.\n",
    "* If the number of arguments to be passed into the function is unknown, add a (*) before the argument name.\n",
    "\n",
    "\n"
   ]
  },
  {
   "cell_type": "markdown",
   "metadata": {
    "id": "ua-YYa8vWRt-"
   },
   "source": [
    "### *args"
   ]
  },
  {
   "cell_type": "code",
   "execution_count": null,
   "metadata": {
    "colab": {
     "base_uri": "https://localhost:8080/"
    },
    "executionInfo": {
     "elapsed": 418,
     "status": "ok",
     "timestamp": 1721499008616,
     "user": {
      "displayName": "Samip Neupane",
      "userId": "08241621723804647931"
     },
     "user_tz": -345
    },
    "id": "M_0KzBO88UVx",
    "outputId": "1b4f7a16-8851-430c-a45c-748c86688cb4"
   },
   "outputs": [],
   "source": [
    "# *args in python\n",
    "\n",
    "def add_numbers(*args):\n",
    "    sum = 0\n",
    "    print(\"args:\", args)\n",
    "    print(\"args type:\", type(args))\n",
    "\n",
    "    for num in args:\n",
    "        sum = sum + num\n",
    "    return sum\n",
    "\n",
    "\n",
    "# Function call\n",
    "sum = add_numbers(10, 20, 30, 40, 50)\n",
    "print(\"sum: \", sum, \"\\n\")\n",
    "\n",
    "sum = add_numbers(10, 20)\n",
    "print(\"sum: \", sum, \"\\n\")\n",
    "\n",
    "sum = add_numbers()\n",
    "print(\"sum: \", sum)"
   ]
  },
  {
   "cell_type": "markdown",
   "metadata": {
    "id": "SpmB0bQLWXIU"
   },
   "source": [
    "### **kwargs"
   ]
  },
  {
   "cell_type": "code",
   "execution_count": null,
   "metadata": {
    "colab": {
     "base_uri": "https://localhost:8080/"
    },
    "executionInfo": {
     "elapsed": 385,
     "status": "ok",
     "timestamp": 1721499238995,
     "user": {
      "displayName": "Samip Neupane",
      "userId": "08241621723804647931"
     },
     "user_tz": -345
    },
    "id": "BeWeLaul8amB",
    "outputId": "08866799-99bc-4bee-f09e-c710cfc159fb"
   },
   "outputs": [],
   "source": [
    "# **kwargs in python\n",
    "\n",
    "def calculate_percentage(**kwargs):\n",
    "    sum = 0\n",
    "    print(\"kwargs:\", kwargs)\n",
    "    print(\"kwargs type: \", type(kwargs))\n",
    "    print(len(kwargs))\n",
    "\n",
    "    for key, value in kwargs.items():\n",
    "        sum = sum + value\n",
    "    return sum / len(kwargs)\n",
    "\n",
    "\n",
    "# Here we can pass any number of keyword arguments\n",
    "percentage = calculate_percentage(math = 70, english = 80, science = 90)\n",
    "print(\"\\nPercentage: \", percentage)"
   ]
  },
  {
   "cell_type": "markdown",
   "metadata": {
    "id": "Amqh2UR79CFS"
   },
   "source": [
    "### Combining Poistional arguments, keyword argumetns , args and kwargs"
   ]
  },
  {
   "cell_type": "code",
   "execution_count": null,
   "metadata": {
    "colab": {
     "base_uri": "https://localhost:8080/"
    },
    "executionInfo": {
     "elapsed": 405,
     "status": "ok",
     "timestamp": 1721499391319,
     "user": {
      "displayName": "Samip Neupane",
      "userId": "08241621723804647931"
     },
     "user_tz": -345
    },
    "id": "cn9-njpY88Ck",
    "outputId": "c3227701-f899-459b-f672-9ebf7969734a"
   },
   "outputs": [],
   "source": [
    "# Function definition with positional arguments, *args and **kwargs\n",
    "\n",
    "def describe_person(name, age, *args, **kwargs):\n",
    "    print(\"Name:\", name)\n",
    "    print(\"Age:\", age)\n",
    "\n",
    "    #remaining arguments except Name and Age\n",
    "    print(\"\\nAttributes:\")\n",
    "    for arg in args:\n",
    "        print(f\"- {arg}\")\n",
    "\n",
    "    #Keyword arguments\n",
    "    print(\"\\nDetails:\")\n",
    "    for key, value in kwargs.items():\n",
    "        print(f\"{key}: {value}\")\n",
    "\n",
    "\n",
    "describe_person(\"Rob\", 30, \"Tall\", \"Blue eyes\", company='xyz', job=\"engineer\", salary='not so much')"
   ]
  },
  {
   "cell_type": "markdown",
   "metadata": {
    "id": "yNCCZ_EfjyNR"
   },
   "source": [
    "# 8. I/O Operations on CSV File"
   ]
  },
  {
   "cell_type": "markdown",
   "metadata": {
    "id": "48LcbZcyDJlf"
   },
   "source": [
    "* CSV (Comma-Separated Values) files are commonly used for storing tabular data.\n",
    "\n",
    "* Python provides the csv module to work with CSV files."
   ]
  },
  {
   "cell_type": "markdown",
   "metadata": {
    "id": "VZZGCPrtYq8U"
   },
   "source": [
    "### Creating CSV from List"
   ]
  },
  {
   "cell_type": "code",
   "execution_count": null,
   "metadata": {
    "id": "A8wAQZqOCzYY"
   },
   "outputs": [],
   "source": [
    "# We need to use csv module to read and write CSV files\n",
    "import csv\n",
    "\n",
    "# Sample data in list\n",
    "csv_data = [\n",
    "    ['Name', 'Age', 'City'],\n",
    "    ['Ram', '36', 'Bhaktapur'],\n",
    "    ['Sita', '25', 'Kathmandu'],\n",
    "    ['Laxman', '35', 'Butwal']\n",
    "]\n",
    "\n",
    "# Writing to a CSV file\n",
    "with open('data.csv', 'w') as file:\n",
    "    writer = csv.writer(file)\n",
    "    writer.writerows(csv_data)"
   ]
  },
  {
   "cell_type": "markdown",
   "metadata": {
    "id": "xYqmkWh4YWqd"
   },
   "source": [
    "### Creating CSV from Dictionary"
   ]
  },
  {
   "cell_type": "code",
   "execution_count": null,
   "metadata": {
    "id": "0bpTEhehG3_a"
   },
   "outputs": [],
   "source": [
    "# Sample data in dictionary\n",
    "csv_data_dict = [\n",
    "    {'Name': 'Ram', 'Age': '36', 'City': 'Bhaktapur'},\n",
    "    {'Name': 'Sita', 'Age': '25', 'City': 'Kathmandu'},\n",
    "    {'Name': 'Laxman', 'Age': '35', 'City': 'Butwal'}\n",
    "]\n",
    "\n",
    "# Writing to a CSV file\n",
    "with open('grade_data.csv', 'w', newline='') as file:\n",
    "    writer = csv.writer(file)\n",
    "    writer.writerow([\"Name\", \"Age\", \"City\"])\n",
    "    for person in csv_data_dict:\n",
    "        writer.writerow([person['Name'], person['Age'], person['City']])"
   ]
  },
  {
   "cell_type": "code",
   "execution_count": null,
   "metadata": {
    "colab": {
     "base_uri": "https://localhost:8080/"
    },
    "executionInfo": {
     "elapsed": 434,
     "status": "ok",
     "timestamp": 1721499799603,
     "user": {
      "displayName": "Samip Neupane",
      "userId": "08241621723804647931"
     },
     "user_tz": -345
    },
    "id": "-lS6Xh91rVMY",
    "outputId": "e78da3b1-8343-4e0c-fea1-e191d25c7f5f"
   },
   "outputs": [],
   "source": [
    "# Read the CSV file and display its contents\n",
    "with open('grade_data.csv', 'r') as file:\n",
    "    reader = csv.reader(file, delimiter=\",\")\n",
    "    for row in reader:\n",
    "        print(row)"
   ]
  },
  {
   "cell_type": "markdown",
   "metadata": {
    "id": "nRjccoFbY39I"
   },
   "source": [
    "### Pandas for CSV"
   ]
  },
  {
   "cell_type": "code",
   "execution_count": null,
   "metadata": {
    "id": "cKYOlKbAC1To"
   },
   "outputs": [],
   "source": [
    "import pandas as pd"
   ]
  },
  {
   "cell_type": "code",
   "execution_count": null,
   "metadata": {
    "colab": {
     "base_uri": "https://localhost:8080/",
     "height": 143
    },
    "executionInfo": {
     "elapsed": 434,
     "status": "ok",
     "timestamp": 1721500001167,
     "user": {
      "displayName": "Samip Neupane",
      "userId": "08241621723804647931"
     },
     "user_tz": -345
    },
    "id": "KDpK5s0BDU3q",
    "outputId": "8f2fa652-0c79-4594-cf34-3f5a4eb892b7"
   },
   "outputs": [],
   "source": [
    "#using aleady existing data.csv\n",
    "\n",
    "df = pd.read_csv('data.csv')\n",
    "df"
   ]
  }
 ],
 "metadata": {
  "colab": {
   "collapsed_sections": [
    "Yl4fu235jAGk",
    "cUdyYzL9jEML",
    "Fgy7ckM4jKU9",
    "Qtuzbm-BjSCO",
    "ikqOXPBcjWps",
    "kphPUwcpjg1n",
    "IL-BKZkTIOTX",
    "yNCCZ_EfjyNR"
   ],
   "provenance": []
  },
  "kernelspec": {
   "display_name": "Python 3 (ipykernel)",
   "language": "python",
   "name": "python3"
  },
  "language_info": {
   "codemirror_mode": {
    "name": "ipython",
    "version": 3
   },
   "file_extension": ".py",
   "mimetype": "text/x-python",
   "name": "python",
   "nbconvert_exporter": "python",
   "pygments_lexer": "ipython3",
   "version": "3.11.5"
  }
 },
 "nbformat": 4,
 "nbformat_minor": 1
}
