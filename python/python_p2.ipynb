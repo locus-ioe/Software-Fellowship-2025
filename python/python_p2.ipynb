{
 "cells": [
  {
   "cell_type": "markdown",
   "metadata": {
    "id": "wbWyedcViUCG"
   },
   "source": [
    "# 12. List Comprehension"
   ]
  },
  {
   "cell_type": "markdown",
   "metadata": {
    "id": "v7lbiaZHuhbp"
   },
   "source": [
    "List Comprehension allows us to create new list from the value of an existing iterable.\n",
    "\n",
    "\\\\\n",
    "What is an iterable? \\\\\n",
    "- An iterable is any object that can return its members one at a time.\n",
    "E.g. lists, tuples, strings, sets, dictionaries, etc.\n",
    "\n",
    "- A simple way to think of iterable is an object that can be used in `for` loop.\n",
    "\n",
    "\\\\\n",
    "The general format for a list comprehension is:\n",
    "``` python\n",
    "new_list = [expression for item in iterable]\n",
    "```\n",
    "\n",
    "Let's see an example. Suppose, we have a list `numbers = [1, 2, 3]` . Now, we want to create a `new list` that contains the square of the elements of the list `numbers`.\n",
    "\n",
    "\\\\\n",
    " Now, how should we approach this?"
   ]
  },
  {
   "cell_type": "code",
   "execution_count": null,
   "metadata": {
    "cellView": "code",
    "colab": {
     "base_uri": "https://localhost:8080/"
    },
    "executionInfo": {
     "elapsed": 472,
     "status": "ok",
     "timestamp": 1721501963317,
     "user": {
      "displayName": "Samip Neupane",
      "userId": "08241621723804647931"
     },
     "user_tz": -345
    },
    "id": "i87cwmtuoXXv",
    "outputId": "fde53eff-c824-4306-b68c-1b8dae79e9c0"
   },
   "outputs": [],
   "source": [
    "# General approach\n",
    "\n",
    "numbers = [1, 2, 3]\n",
    "squared_numbers = []\n",
    "\n",
    "for num in numbers:\n",
    "  sq_num = num ** 2\n",
    "  squared_numbers.append(sq_num)\n",
    "\n",
    "print(squared_numbers)"
   ]
  },
  {
   "cell_type": "markdown",
   "metadata": {
    "id": "Fug7HkpYoXgC"
   },
   "source": [
    "We can observe that this approach takes a lot of steps and code.\n",
    "\n",
    "\\\\\n",
    "We can shorten these steps using list comprehension.\n",
    "\n",
    "```python\n",
    "new_list = [new_item for item in list]\n",
    "```"
   ]
  },
  {
   "cell_type": "code",
   "execution_count": null,
   "metadata": {
    "cellView": "code",
    "colab": {
     "base_uri": "https://localhost:8080/"
    },
    "executionInfo": {
     "elapsed": 453,
     "status": "ok",
     "timestamp": 1721501970168,
     "user": {
      "displayName": "Samip Neupane",
      "userId": "08241621723804647931"
     },
     "user_tz": -345
    },
    "id": "vtOmttELoXi8",
    "outputId": "23743661-8220-474d-be56-5741eb417313"
   },
   "outputs": [],
   "source": [
    "# List Comprehension Approach\n",
    "\n",
    "numbers = [1, 2, 3]\n",
    "\n",
    "squared_numbers = [num ** 2 for num in numbers]\n",
    "\n",
    "print(squared_numbers)"
   ]
  },
  {
   "cell_type": "markdown",
   "metadata": {
    "id": "a5pD2mXNBkYi"
   },
   "source": [
    "### Conditional List Comprehension\n",
    "We can also use `if` condition in a list comprehension for additional filtering.\n",
    "\n",
    "The format for conditional list comprehension is:\n",
    "```python\n",
    "new_list = [expression for item in iterable if condition]\n",
    "```\n",
    "\n",
    "Say we have a list `numbers = [1, 2, 3, 4]`. We want to create a `new list` that contains the square of the elements of the list `numbers` that are `even`."
   ]
  },
  {
   "cell_type": "code",
   "execution_count": null,
   "metadata": {
    "cellView": "code",
    "colab": {
     "base_uri": "https://localhost:8080/"
    },
    "executionInfo": {
     "elapsed": 483,
     "status": "ok",
     "timestamp": 1721501976533,
     "user": {
      "displayName": "Samip Neupane",
      "userId": "08241621723804647931"
     },
     "user_tz": -345
    },
    "id": "vKq7FqPbC9_M",
    "outputId": "70297d89-7315-4860-e086-29677d12ab31"
   },
   "outputs": [],
   "source": [
    "numbers = [1, 2, 3, 4]\n",
    "\n",
    "# Apply conditional list comprehension for square of even numbers in `numbers` list\n",
    "even_square_numbers = [num ** 2 for num in numbers if (num % 2) == 0]\n",
    "\n",
    "print(even_square_numbers)"
   ]
  },
  {
   "cell_type": "markdown",
   "metadata": {
    "id": "Aob40A4eD3tP"
   },
   "source": [
    "### QUESTION\n",
    "You have a list of integers. Create a new list that contains only the multiples of 3 from the original list using list comprehension."
   ]
  },
  {
   "cell_type": "code",
   "execution_count": null,
   "metadata": {
    "cellView": "code",
    "id": "NJ0rXKZyEUvo"
   },
   "outputs": [],
   "source": [
    "numbers = [1, 2, 3, 4, 5, 6, 7, 8, 9, 10]\n",
    "# code here"
   ]
  },
  {
   "cell_type": "markdown",
   "metadata": {
    "id": "76LNNBXbibsA"
   },
   "source": [
    "# 13. Functions in Python"
   ]
  },
  {
   "cell_type": "markdown",
   "metadata": {
    "id": "GM-a9ncm4PSR"
   },
   "source": [
    "* Functions in Python are reusable blocks of code designed to perform a specific task.\n",
    "\n",
    "* They help in organizing code, reducing redundancy, and improving readability.\n",
    "\n",
    "* Return:\n",
    "\n",
    "    * Functions can return a value using the return statement.\n",
    "    \n",
    "    * A function without a return statement returns None by default.\n",
    "\n",
    "Syntax:\n",
    "```\n",
    "# Standard Function definition\n",
    "def my_function(param1:int, param:str) -> bool:\n",
    "    \"\"\"\n",
    "    This is a docstring.\n",
    "\n",
    "    Args:\n",
    "        param1 (int): The first parameter.\n",
    "        param2 (str): The second parameter.\n",
    "\n",
    "    Returns:\n",
    "        bool: The return value. True for success, False otherwise.\n",
    "    \"\"\"\n",
    "    pass\n",
    "\n",
    "# Function call\n",
    "my_function(4, \"A\")\n",
    "```"
   ]
  },
  {
   "cell_type": "code",
   "execution_count": null,
   "metadata": {
    "colab": {
     "base_uri": "https://localhost:8080/"
    },
    "executionInfo": {
     "elapsed": 440,
     "status": "ok",
     "timestamp": 1721501991651,
     "user": {
      "displayName": "Samip Neupane",
      "userId": "08241621723804647931"
     },
     "user_tz": -345
    },
    "id": "veL1GVIj4iEz",
    "outputId": "95babc8a-bb8b-4e25-9659-af4b027d2f05"
   },
   "outputs": [],
   "source": [
    "# Example function to add two numbers\n",
    "\n",
    "def add_two_numbers(x, y):\n",
    "    return x + y\n",
    "\n",
    "# Positional function call\n",
    "sum1 = add_two_numbers(10, 20)\n",
    "print(sum1)\n",
    "\n",
    "#keyword argument function call\n",
    "sum2 = add_two_numbers(y = 12, x = 231)\n",
    "print(sum2)"
   ]
  },
  {
   "cell_type": "markdown",
   "metadata": {
    "id": "osTqYsry-pQR"
   },
   "source": [
    "## Returning Multiple Values in Python\n",
    "\n",
    "### Using Tuples\n",
    "\n",
    "In Python, you can return multiple values from a function by returning them as a tuple. A tuple is a collection which is ordered and immutable"
   ]
  },
  {
   "cell_type": "code",
   "execution_count": null,
   "metadata": {
    "colab": {
     "base_uri": "https://localhost:8080/"
    },
    "executionInfo": {
     "elapsed": 462,
     "status": "ok",
     "timestamp": 1721501994158,
     "user": {
      "displayName": "Samip Neupane",
      "userId": "08241621723804647931"
     },
     "user_tz": -345
    },
    "id": "pcW0VYbB9Lse",
    "outputId": "602e2970-7865-48c7-e9d0-de93b13f621c"
   },
   "outputs": [],
   "source": [
    "def test2():\n",
    "    return 'abc', 100, [0, 1, 2]\n",
    "\n",
    "result = test2()\n",
    "print(result)\n",
    "print(type(result), \"\\n\")\n",
    "\n",
    "# unpacking\n",
    "a,b,c = test2()\n",
    "print(a)\n",
    "print(b)\n",
    "print(c)"
   ]
  },
  {
   "cell_type": "markdown",
   "metadata": {
    "id": "ox-4-n39LOra"
   },
   "source": [
    "### Return a list from a function\n",
    "By using [], you can return a list instead of a tuple."
   ]
  },
  {
   "cell_type": "code",
   "execution_count": null,
   "metadata": {
    "colab": {
     "base_uri": "https://localhost:8080/"
    },
    "executionInfo": {
     "elapsed": 7,
     "status": "ok",
     "timestamp": 1721501996879,
     "user": {
      "displayName": "Samip Neupane",
      "userId": "08241621723804647931"
     },
     "user_tz": -345
    },
    "id": "kQLd0oITLLwn",
    "outputId": "9e5ca159-e0ca-42c5-dcab-9fb8fa3a8797"
   },
   "outputs": [],
   "source": [
    "def test_list():\n",
    "    return ['abc', 100]\n",
    "\n",
    "result = test_list()\n",
    "print(result)\n",
    "print(type(result))"
   ]
  },
  {
   "cell_type": "markdown",
   "metadata": {
    "id": "vAs-UAV1dRy7"
   },
   "source": [
    "### QUESTION\n",
    "Write a function named split_name that takes a full name and returns the first and last names.\n",
    "\n",
    "HINT: use `string.split()` function to split the name"
   ]
  },
  {
   "cell_type": "code",
   "execution_count": null,
   "metadata": {
    "id": "uBQXVVfhPGt0"
   },
   "outputs": [],
   "source": [
    "def split_name(fullname):\n",
    "  '''split first and last name'''\n",
    "  # code here\n",
    "  return '''return first and last name'''\n",
    "\n",
    "first, last = split_name('Tech Axis')\n",
    "print(first)\n",
    "print(last)"
   ]
  },
  {
   "cell_type": "markdown",
   "metadata": {
    "id": "7ZpV5AxEAH2b"
   },
   "source": [
    "### Topics you can explore !!\n",
    "There is more to explore in this topic. Some Topics include:\n",
    "1. High Order Function\n",
    "2. Decorator\n",
    "3. Lambda Functions"
   ]
  },
  {
   "cell_type": "markdown",
   "metadata": {
    "id": "y7JMlDcqion5"
   },
   "source": [
    "# 15. Exception Handling"
   ]
  },
  {
   "cell_type": "markdown",
   "metadata": {
    "id": "WBrpYi0k8mNR"
   },
   "source": [
    "### Errors and Exceptions\n",
    "\n",
    "Generally, there are two types of errors in Python: `syntax errors` and `exceptions`.\n",
    "\n",
    "- Syntax Errors:\n",
    "  - Errors in the syntax of the code, which are detected by the Python interpreter before the program is run.\n",
    "\n",
    "  - Also known as parsing errors.\n",
    "\n",
    "\\\\\n",
    "- Exceptions:\n",
    "  - Even if the code is syntactically correct, errors may occur while the program is being executed.\n",
    "\n",
    "  - Errors detected during execution are called exceptions.\n",
    "\n",
    "  - These can be handled by the programmer to prevent the program from crashing.\n",
    "\n",
    "  - Examples include `ZeroDivisionError`, `TypeError`, `KeyError`, `NameError`, `IndexError`, etc."
   ]
  },
  {
   "cell_type": "code",
   "execution_count": null,
   "metadata": {
    "id": "u3oxHMH1Ak0b"
   },
   "outputs": [],
   "source": [
    "# Syntax Error\n",
    "if True\n",
    "  print(\"Hello\")\n",
    "\n",
    "\n",
    "# Note: output will be SyntaxError"
   ]
  },
  {
   "cell_type": "code",
   "execution_count": null,
   "metadata": {
    "id": "7PnWAqwCAkot"
   },
   "outputs": [],
   "source": [
    "# Exceptions\n",
    "result = 10 / 0\n",
    "print(result)\n",
    "\n",
    "\n",
    "# Note: output will be ZeroDivisionError"
   ]
  },
  {
   "cell_type": "markdown",
   "metadata": {
    "id": "ZNAjBlde_8vr"
   },
   "source": [
    "### Handling Exceptions\n",
    "The `try` and `except` block is used to handle exceptions.\n",
    "\n",
    "- The `try` block contains code that might raise an exception.\n",
    "\n",
    "- The `except` block is executed if the exception type (that occured during execution of `try` block) matches the exception named after `except` keyword."
   ]
  },
  {
   "cell_type": "code",
   "execution_count": null,
   "metadata": {
    "colab": {
     "base_uri": "https://localhost:8080/"
    },
    "executionInfo": {
     "elapsed": 452,
     "status": "ok",
     "timestamp": 1721502022481,
     "user": {
      "displayName": "Samip Neupane",
      "userId": "08241621723804647931"
     },
     "user_tz": -345
    },
    "id": "1QOFyYVn-DbI",
    "outputId": "aae56b08-83a6-4ab5-a4fc-8b9eb402b1a4"
   },
   "outputs": [],
   "source": [
    "def divide(x, y):\n",
    "  try:\n",
    "      result = x / y                  # This will raise a ZeroDivisionError if y = 0\n",
    "      return result\n",
    "\n",
    "  except ZeroDivisionError:\n",
    "      print(\"Cannot divide by zero!\") # Code that runs if a ZeroDivisionError exception occurs\n",
    "\n",
    "# function call\n",
    "divide(5, 1)"
   ]
  },
  {
   "cell_type": "markdown",
   "metadata": {
    "id": "nRipGD65Dz5S"
   },
   "source": [
    "Now what if there were no exceptions raised in the `try` block. For this case, `else` keyword is used.\n",
    "\n",
    "- The `else` block runs if no exceptions were raised in the `try` block.\n",
    "\n",
    "\\\\\n",
    "What if we want some code to be executed whether an exception is raised or not? For this case `finally` keywrod is used.\n",
    "\n",
    "- The `finally` block always runs, regardless of whether an exception was raised or not."
   ]
  },
  {
   "cell_type": "code",
   "execution_count": null,
   "metadata": {
    "colab": {
     "base_uri": "https://localhost:8080/"
    },
    "executionInfo": {
     "elapsed": 461,
     "status": "ok",
     "timestamp": 1721502025072,
     "user": {
      "displayName": "Samip Neupane",
      "userId": "08241621723804647931"
     },
     "user_tz": -345
    },
    "id": "wB9HCRpZE0No",
    "outputId": "d692471c-75ad-4377-fdf3-54fe5cd6a481"
   },
   "outputs": [],
   "source": [
    "try:\n",
    "  result = 10 / 2\n",
    "  print(result)\n",
    "\n",
    "except ZeroDivisionError:\n",
    "  print(\"Cannot divide by zero!\")\n",
    "\n",
    "else:\n",
    "  # Code that runs if no exceptions were raised in the try block\n",
    "  print(\"Division was successful.\")\n",
    "\n",
    "finally:\n",
    "  # Code that always runs, whether an exception is raised or not\n",
    "  print(\"This will always be printed.\")\n"
   ]
  },
  {
   "cell_type": "markdown",
   "metadata": {
    "id": "ImLX_EUFSy1Y"
   },
   "source": [
    "#16. Pandas and Numpy Introduction"
   ]
  },
  {
   "cell_type": "markdown",
   "metadata": {
    "id": "FsIZQvTgTz92"
   },
   "source": [
    "### NumPy"
   ]
  },
  {
   "cell_type": "markdown",
   "metadata": {
    "id": "ZLebv8pUT2Dh"
   },
   "source": [
    "- NumPy (Numerical Python) is a library used for fast and efficient computations of arrays.\n",
    "\n",
    "- It provides support for large multidimensional array objects and various tools to work with these arrays.\n",
    "\n",
    "- NumPy arrays calculate advanced mathematical and other types of operations on large numbers of data with\n",
    "ease."
   ]
  },
  {
   "cell_type": "markdown",
   "metadata": {
    "id": "nd0L2wWEYC3d"
   },
   "source": [
    "### Why is a NumPy array preferable to a list?\n",
    "\n",
    "- NumPy arrays are more efficient than Python lists for numerical operations due to their fixed size and continuous memory allocation.\n",
    "\n",
    "- NumPy operations are implemented in C, leading to faster execution.\n",
    "\n",
    "- NumPy provides many built-in functions for array manipulation, making it easier to perform complex operations.\n",
    "\n",
    "- Element-wise operations can be performed without explicit loops."
   ]
  },
  {
   "cell_type": "markdown",
   "metadata": {
    "id": "bHOJwXAkVud8"
   },
   "source": [
    "##### Creating Arrays"
   ]
  },
  {
   "cell_type": "markdown",
   "metadata": {
    "id": "KWulzrkcV02w"
   },
   "source": [
    "We can define NumPy arrays using lists, tuples, sets, dictionaries, etc.  Lists are commonly used to create arrays."
   ]
  },
  {
   "cell_type": "code",
   "execution_count": null,
   "metadata": {
    "colab": {
     "base_uri": "https://localhost:8080/"
    },
    "executionInfo": {
     "elapsed": 469,
     "status": "ok",
     "timestamp": 1721029446758,
     "user": {
      "displayName": "BISHAL ARYAL",
      "userId": "02857193380710935858"
     },
     "user_tz": -345
    },
    "id": "eO7apL5VV0l8",
    "outputId": "cf6901d8-b669-4438-d6d4-d6a92099b430"
   },
   "outputs": [],
   "source": [
    "# Import numpy module\n",
    "import numpy as np    # np as alias\n",
    "\n",
    "# Creating a NumPy array using list\n",
    "arr = np.array([1, 2, 3, 4, 5])\n",
    "print(\"Array:\", arr)"
   ]
  },
  {
   "cell_type": "markdown",
   "metadata": {
    "id": "0x-1e-wPWgO0"
   },
   "source": [
    "To create an array filled with zeros, np.zeros function can be used.\n",
    "\n",
    "---\n",
    "\n"
   ]
  },
  {
   "cell_type": "code",
   "execution_count": null,
   "metadata": {
    "colab": {
     "base_uri": "https://localhost:8080/"
    },
    "executionInfo": {
     "elapsed": 462,
     "status": "ok",
     "timestamp": 1721029698166,
     "user": {
      "displayName": "BISHAL ARYAL",
      "userId": "02857193380710935858"
     },
     "user_tz": -345
    },
    "id": "bR3cZqhFWaFA",
    "outputId": "56219583-7bae-49c8-d5a4-87549e9baac4"
   },
   "outputs": [],
   "source": [
    "# Creates a 1D array containing all zeroes\n",
    "zeros_vector = np.zeros(3)\n",
    "print(f\"Zero Vector: {zeros_vector}\")\n",
    "# Creates a 2D array containing all zeroes\n",
    "zeros_array = np.zeros((3, 4))\n",
    "print(f\"Zero 2D Matrix:\\n {zeros_array}\")"
   ]
  },
  {
   "cell_type": "markdown",
   "metadata": {
    "id": "vyDAvuImXVDF"
   },
   "source": [
    "### Activity"
   ]
  },
  {
   "cell_type": "markdown",
   "metadata": {
    "id": "zgEjSKt8XYKu"
   },
   "source": [
    "Create a vector filled with 1 and a vector matrix of order 3x3 containing one as its elements.\n",
    "\n",
    "\n",
    "Hint:\n",
    "- Use np.ones function"
   ]
  },
  {
   "cell_type": "code",
   "execution_count": null,
   "metadata": {
    "id": "JWUFc9LzT1ax"
   },
   "outputs": [],
   "source": []
  },
  {
   "cell_type": "code",
   "execution_count": null,
   "metadata": {
    "colab": {
     "base_uri": "https://localhost:8080/"
    },
    "executionInfo": {
     "elapsed": 452,
     "status": "ok",
     "timestamp": 1721030325122,
     "user": {
      "displayName": "BISHAL ARYAL",
      "userId": "02857193380710935858"
     },
     "user_tz": -345
    },
    "id": "_fvNSlGkZjTJ",
    "outputId": "7dbc7737-1fa5-4a9c-dff9-1f08308adfa7"
   },
   "outputs": [],
   "source": [
    "# Creating identity matrix\n",
    "identity_array = np.identity(3)\n",
    "identity_array"
   ]
  },
  {
   "cell_type": "markdown",
   "metadata": {
    "id": "Sy7ivUCwZuHK"
   },
   "source": [
    "NumPy provides different functions to create random arrays."
   ]
  },
  {
   "cell_type": "code",
   "execution_count": null,
   "metadata": {
    "colab": {
     "base_uri": "https://localhost:8080/"
    },
    "executionInfo": {
     "elapsed": 14,
     "status": "ok",
     "timestamp": 1721030384795,
     "user": {
      "displayName": "BISHAL ARYAL",
      "userId": "02857193380710935858"
     },
     "user_tz": -345
    },
    "id": "lxtLtw9ATqj2",
    "outputId": "0030f5c7-47e4-4ec6-afb6-f5799a3a7dea"
   },
   "outputs": [],
   "source": [
    "# Creates a random array with elements between 0 and 1\n",
    "random_array = np.random.rand(3, 3)\n",
    "random_array"
   ]
  },
  {
   "cell_type": "markdown",
   "metadata": {
    "id": "7pHNP1BSeJ9z"
   },
   "source": [
    "### Properties of NumPy Array object"
   ]
  },
  {
   "cell_type": "markdown",
   "metadata": {
    "id": "-YPRAcsAeY4z"
   },
   "source": [
    "- Size: Total number of elements in the array.\n",
    "\n",
    "- Shape: Tuple containing number of rows and columns of the array.\n",
    "\n",
    "- ndim: Number of dimensions (axes) of the array."
   ]
  },
  {
   "cell_type": "code",
   "execution_count": null,
   "metadata": {
    "colab": {
     "base_uri": "https://localhost:8080/"
    },
    "executionInfo": {
     "elapsed": 603,
     "status": "ok",
     "timestamp": 1721031402347,
     "user": {
      "displayName": "BISHAL ARYAL",
      "userId": "02857193380710935858"
     },
     "user_tz": -345
    },
    "id": "V9T-NWqbZ5lI",
    "outputId": "da800563-0187-4782-f888-6b6a0a6dfcf6"
   },
   "outputs": [],
   "source": [
    "# Create 2D array\n",
    "array1 = np.array([[1, 2, 3], [4, 5, 6]])\n",
    "print(array1)\n",
    "\n",
    "# Check size of an array\n",
    "print(\"Size of Array: \", array1.size)\n",
    "\n",
    "# Check shape of array\n",
    "print(\"Shape of Array: \", array1.shape)\n",
    "\n",
    "# Check dimension of array\n",
    "print(\"Dimension of Array: \", array1.ndim)"
   ]
  },
  {
   "cell_type": "markdown",
   "metadata": {
    "id": "Tbqhz0obLdcX"
   },
   "source": [
    "#### Activity"
   ]
  },
  {
   "cell_type": "markdown",
   "metadata": {
    "id": "Of4npYuDLeyk"
   },
   "source": [
    "Create a 2D NumPy array from lists, and explore basic properties of arrays."
   ]
  },
  {
   "cell_type": "code",
   "execution_count": null,
   "metadata": {
    "id": "2jIloaooLpWZ"
   },
   "outputs": [],
   "source": []
  },
  {
   "cell_type": "markdown",
   "metadata": {
    "id": "pnkbyF9ic-nG"
   },
   "source": [
    "### Array Manipulation"
   ]
  },
  {
   "cell_type": "markdown",
   "metadata": {
    "id": "--qiXfQ8dDrI"
   },
   "source": [
    "We often need to reshape an array to a new shape without changing the data."
   ]
  },
  {
   "cell_type": "code",
   "execution_count": null,
   "metadata": {
    "colab": {
     "base_uri": "https://localhost:8080/"
    },
    "executionInfo": {
     "elapsed": 463,
     "status": "ok",
     "timestamp": 1721031900163,
     "user": {
      "displayName": "BISHAL ARYAL",
      "userId": "02857193380710935858"
     },
     "user_tz": -345
    },
    "id": "2VhOiKnQfWY8",
    "outputId": "9d4400a2-ede7-4648-f95a-a7bb0e689a96"
   },
   "outputs": [],
   "source": [
    "# Create 2D array\n",
    "array1 = np.array([[1, 2, 3], [4, 5, 6]])\n",
    "print(array1)\n",
    "\n",
    "# Check shape of array\n",
    "print(\"Shape of Array: \", array1.shape)\n",
    "\n",
    "# Reshape array to 3x2\n",
    "array1 = array1.reshape(3, 2)\n",
    "print(array1)\n",
    "print(\"Shape of Array: \", array1.shape)"
   ]
  },
  {
   "cell_type": "markdown",
   "metadata": {
    "id": "5qvFFAS6f0Gj"
   },
   "source": [
    "We can obtain transpose of array using `T` property"
   ]
  },
  {
   "cell_type": "code",
   "execution_count": null,
   "metadata": {
    "colab": {
     "base_uri": "https://localhost:8080/"
    },
    "executionInfo": {
     "elapsed": 443,
     "status": "ok",
     "timestamp": 1721032056894,
     "user": {
      "displayName": "BISHAL ARYAL",
      "userId": "02857193380710935858"
     },
     "user_tz": -345
    },
    "id": "GEVPDbvrf_tp",
    "outputId": "aa8ac0fe-7ad4-4ad5-9b6b-403fa141f2d2"
   },
   "outputs": [],
   "source": [
    "# Create 2D array\n",
    "array1 = np.array([[1, 2, 3], [4, 5, 6]])\n",
    "print(array1)\n",
    "# Check shape of array\n",
    "print(\"Shape of Array: \", array1.shape)\n",
    "\n",
    "# Transpose\n",
    "array1 = array1.T\n",
    "print(array1)\n",
    "# Check shape of array\n",
    "print(\"Shape of Array: \", array1.shape)"
   ]
  },
  {
   "cell_type": "markdown",
   "metadata": {
    "id": "bXDdN7QBL3uu"
   },
   "source": [
    "#### Activity"
   ]
  },
  {
   "cell_type": "markdown",
   "metadata": {
    "id": "ga9o3rnJL6B2"
   },
   "source": [
    "Create a 1D array and reshape it into a 2D array."
   ]
  },
  {
   "cell_type": "code",
   "execution_count": null,
   "metadata": {
    "id": "1k8OKm-4L7pL"
   },
   "outputs": [],
   "source": []
  },
  {
   "cell_type": "markdown",
   "metadata": {
    "id": "w_AISXOggx1A"
   },
   "source": [
    "#### Matrix Multiplication"
   ]
  },
  {
   "cell_type": "markdown",
   "metadata": {
    "id": "xKIQ5_hVg_V6"
   },
   "source": [
    "We can use np.matmul for matrix multiplication."
   ]
  },
  {
   "cell_type": "code",
   "execution_count": null,
   "metadata": {
    "colab": {
     "base_uri": "https://localhost:8080/"
    },
    "executionInfo": {
     "elapsed": 529,
     "status": "ok",
     "timestamp": 1721032213225,
     "user": {
      "displayName": "BISHAL ARYAL",
      "userId": "02857193380710935858"
     },
     "user_tz": -345
    },
    "id": "U63OgJVPg0Or",
    "outputId": "199ad84b-68ef-416d-e1f6-1030e9cbb689"
   },
   "outputs": [],
   "source": [
    "import numpy as np\n",
    "\n",
    "# Create two 2D matrices\n",
    "A = np.array([[1, 2], [3, 4]])\n",
    "B = np.array([[5, 6], [7, 8]])\n",
    "\n",
    "# Matrix multiplication\n",
    "C = np.matmul(A, B)\n",
    "\n",
    "print(\"Matrix A:\\n\", A)\n",
    "print(\"Matrix B:\\n\", B)\n",
    "print(\"Matrix C (A @ B):\\n\", C)\n"
   ]
  },
  {
   "cell_type": "markdown",
   "metadata": {
    "id": "V_TU7GHkhIaG"
   },
   "source": [
    "We can observe that, Numpy provides huge variety of built-in functions making it easier to perform complex operations."
   ]
  },
  {
   "cell_type": "markdown",
   "metadata": {
    "id": "wTpz1XwGMnoF"
   },
   "source": [
    "#### Activity"
   ]
  },
  {
   "cell_type": "markdown",
   "metadata": {
    "id": "OjYADzcBMpyK"
   },
   "source": [
    "Create two 2D NumPy arrays and perform a matrix multiplication between them."
   ]
  },
  {
   "cell_type": "code",
   "execution_count": null,
   "metadata": {
    "id": "tE3f-rHrMnKV"
   },
   "outputs": [],
   "source": []
  },
  {
   "cell_type": "markdown",
   "metadata": {
    "id": "hDSK8CvAh3xn"
   },
   "source": [
    "#### Performance of NumPy array vs List"
   ]
  },
  {
   "cell_type": "code",
   "execution_count": null,
   "metadata": {
    "colab": {
     "base_uri": "https://localhost:8080/"
    },
    "executionInfo": {
     "elapsed": 1228,
     "status": "ok",
     "timestamp": 1721030751122,
     "user": {
      "displayName": "BISHAL ARYAL",
      "userId": "02857193380710935858"
     },
     "user_tz": -345
    },
    "id": "_0T2gSp3aOfT",
    "outputId": "c0869e97-a933-49d8-d527-69df0e3ca8a2"
   },
   "outputs": [],
   "source": [
    "import time\n",
    "\n",
    "# Performance comparison\n",
    "large_list = list(range(1_000_000))\n",
    "large_array = np.array(large_list)\n",
    "\n",
    "start_time = time.time()\n",
    "list_result = [x * 2 for x in large_list]\n",
    "print(\"List operation time:\", time.time() - start_time)\n",
    "\n",
    "start_time = time.time()\n",
    "array_result = large_array * 2\n",
    "print(\"NumPy array operation time:\", time.time() - start_time)\n"
   ]
  },
  {
   "cell_type": "markdown",
   "metadata": {
    "id": "YSX2JgjNM12e"
   },
   "source": [
    "We can observe that the operation time for list operation is very large (slow) as compared to NumPy array operation."
   ]
  },
  {
   "cell_type": "markdown",
   "metadata": {
    "id": "j_3O6qQ4iDbh"
   },
   "source": [
    "### Pandas"
   ]
  },
  {
   "cell_type": "markdown",
   "metadata": {
    "id": "PP8qYYmMia6m"
   },
   "source": [
    "- Pandas is a powerful library for data manipulation and analysis.\n",
    "\n",
    "- It provides data structures like `DataFrame` and `Series` that are built on top of NumPy arrays.\n",
    "\n",
    "- A `DataFrame` is a table with rows and columns.\n",
    "\n",
    "- A `Series` is a sequence of values (1-D array). It is a column of the `dataframe`."
   ]
  },
  {
   "cell_type": "markdown",
   "metadata": {
    "id": "yo82gns4jeEj"
   },
   "source": [
    "### Why use Pandas?"
   ]
  },
  {
   "cell_type": "markdown",
   "metadata": {
    "id": "dMsehgORjj3H"
   },
   "source": [
    "- Pandas can process data with different data types.\n",
    "\n",
    "- It provides powerful tools for data cleaning, filtering, and transformation.\n",
    "\n",
    "- It offers numerous functions for statistical analysis and data aggregation.\n",
    "\n",
    "- It integrates well with other data science libraries like Matplotlib and Seaborn for visualization, and SciPy for scientific computation.\n",
    "\n"
   ]
  },
  {
   "cell_type": "markdown",
   "metadata": {
    "id": "GkZUR0TktxGR"
   },
   "source": [
    "#### Basic Operations in Pandas"
   ]
  },
  {
   "cell_type": "code",
   "execution_count": null,
   "metadata": {
    "id": "TOvJzIqUjjQM"
   },
   "outputs": [],
   "source": [
    "# Importing pandas module\n",
    "import pandas as pd"
   ]
  },
  {
   "cell_type": "code",
   "execution_count": null,
   "metadata": {
    "colab": {
     "base_uri": "https://localhost:8080/",
     "height": 269
    },
    "executionInfo": {
     "elapsed": 468,
     "status": "ok",
     "timestamp": 1721035838927,
     "user": {
      "displayName": "BISHAL ARYAL",
      "userId": "02857193380710935858"
     },
     "user_tz": -345
    },
    "id": "9rBNJ5OMuGdO",
    "outputId": "52f14a99-e12a-45a6-e576-6caacc616f2e"
   },
   "outputs": [],
   "source": [
    "# Create a DataFrame from a dictionary\n",
    "data = {\n",
    "    'Name': ['Alice', 'Bob', 'Charlie', 'David', 'Nicole', 'John', 'James'],\n",
    "    'Age': [23, 30, 29, 40, 21, 33, 44],\n",
    "    'City': ['New York', 'Los Angeles', 'Chicago', 'Houston', 'Texas', 'Ohio', 'Vegas']\n",
    "}\n",
    "\n",
    "df = pd.DataFrame(data)\n",
    "\n",
    "# Display the DataFrame\n",
    "df"
   ]
  },
  {
   "cell_type": "code",
   "execution_count": null,
   "metadata": {
    "colab": {
     "base_uri": "https://localhost:8080/"
    },
    "executionInfo": {
     "elapsed": 475,
     "status": "ok",
     "timestamp": 1721043969858,
     "user": {
      "displayName": "BISHAL ARYAL",
      "userId": "02857193380710935858"
     },
     "user_tz": -345
    },
    "id": "E5pnPRa-NqK6",
    "outputId": "31227bdd-128d-43e3-85b1-ca60416e8c79"
   },
   "outputs": [],
   "source": [
    "# Display the shape of the DataFrame\n",
    "df.shape"
   ]
  },
  {
   "cell_type": "code",
   "execution_count": null,
   "metadata": {
    "colab": {
     "base_uri": "https://localhost:8080/",
     "height": 206
    },
    "executionInfo": {
     "elapsed": 468,
     "status": "ok",
     "timestamp": 1721035845450,
     "user": {
      "displayName": "BISHAL ARYAL",
      "userId": "02857193380710935858"
     },
     "user_tz": -345
    },
    "id": "s9jTrCxbuNw8",
    "outputId": "2b8c1ff1-19d0-4d20-db17-4f7766ca8972"
   },
   "outputs": [],
   "source": [
    "# Display the first 5 rows of the DataFrame\n",
    "df.head()"
   ]
  },
  {
   "cell_type": "code",
   "execution_count": null,
   "metadata": {
    "colab": {
     "base_uri": "https://localhost:8080/",
     "height": 206
    },
    "executionInfo": {
     "elapsed": 644,
     "status": "ok",
     "timestamp": 1721035856158,
     "user": {
      "displayName": "BISHAL ARYAL",
      "userId": "02857193380710935858"
     },
     "user_tz": -345
    },
    "id": "qC6hiLyPuWnR",
    "outputId": "99d298aa-d97a-413d-d94b-f77067ff06a3"
   },
   "outputs": [],
   "source": [
    "# Display the last 5 rows of the DataFrame\n",
    "df.tail()\n"
   ]
  },
  {
   "cell_type": "code",
   "execution_count": null,
   "metadata": {
    "colab": {
     "base_uri": "https://localhost:8080/"
    },
    "executionInfo": {
     "elapsed": 458,
     "status": "ok",
     "timestamp": 1721035873543,
     "user": {
      "displayName": "BISHAL ARYAL",
      "userId": "02857193380710935858"
     },
     "user_tz": -345
    },
    "id": "TMWcad81uy5T",
    "outputId": "9c1363b0-3b26-4dcd-8075-2690692a776d"
   },
   "outputs": [],
   "source": [
    "# Display DataFrame information\n",
    "df.info()"
   ]
  },
  {
   "cell_type": "code",
   "execution_count": null,
   "metadata": {
    "colab": {
     "base_uri": "https://localhost:8080/",
     "height": 300
    },
    "executionInfo": {
     "elapsed": 762,
     "status": "ok",
     "timestamp": 1721035888369,
     "user": {
      "displayName": "BISHAL ARYAL",
      "userId": "02857193380710935858"
     },
     "user_tz": -345
    },
    "id": "qAsRh37Zu1iQ",
    "outputId": "ba0c84f2-6f0b-40cf-e9f3-4f63d78af85c"
   },
   "outputs": [],
   "source": [
    "# Display summary statistics\n",
    "df.describe()"
   ]
  },
  {
   "cell_type": "markdown",
   "metadata": {
    "id": "4SoTMKEoNMhW"
   },
   "source": [
    "#### Activity"
   ]
  },
  {
   "cell_type": "markdown",
   "metadata": {
    "id": "NBocCwZtNOzh"
   },
   "source": [
    "Create a DataFrame using a dictionary and explore its contents using above inspection methods (df.info(), df.shape, df.head(), df.describe() etc)."
   ]
  },
  {
   "cell_type": "code",
   "execution_count": null,
   "metadata": {
    "id": "wUhc91rcN0jU"
   },
   "outputs": [],
   "source": [
    "data_dict = {\n",
    "    'Name': ['Alice', 'Bob', 'Charlie', 'David', 'Eva', 'Frank', 'Grace', 'Hannah', 'Ian', 'Jack'],\n",
    "    'Age': [24, 27, 22, 32, 29, 31, 28, 24, 26, 30],\n",
    "    'City': ['New York', 'Los Angeles', 'Chicago', 'Houston', 'Phoenix', 'Philadelphia', 'San Antonio', 'San Diego', 'Dallas', 'San Jose'],\n",
    "    'Salary': [70000, 80000, 65000, 72000, 69000, 75000, 68000, 73000, 71000, 77000]\n",
    "}\n",
    "\n",
    "# Create a DataFrame from the dictionary\n",
    "df_data = ..."
   ]
  },
  {
   "cell_type": "markdown",
   "metadata": {
    "id": "mvi7fDJivHEz"
   },
   "source": [
    "##### Selecting Data"
   ]
  },
  {
   "cell_type": "code",
   "execution_count": null,
   "metadata": {
    "colab": {
     "base_uri": "https://localhost:8080/"
    },
    "executionInfo": {
     "elapsed": 657,
     "status": "ok",
     "timestamp": 1721035992416,
     "user": {
      "displayName": "BISHAL ARYAL",
      "userId": "02857193380710935858"
     },
     "user_tz": -345
    },
    "id": "yu8Q4XAWvJnI",
    "outputId": "6ddb0f18-9582-45eb-8cc5-be03192f8e1b"
   },
   "outputs": [],
   "source": [
    "# Select a column\n",
    "df['Name']"
   ]
  },
  {
   "cell_type": "code",
   "execution_count": null,
   "metadata": {
    "colab": {
     "base_uri": "https://localhost:8080/"
    },
    "executionInfo": {
     "elapsed": 2,
     "status": "ok",
     "timestamp": 1721035995469,
     "user": {
      "displayName": "BISHAL ARYAL",
      "userId": "02857193380710935858"
     },
     "user_tz": -345
    },
    "id": "9j5gROqcvLQj",
    "outputId": "5d6ae20f-8db2-4e54-bd37-e9dbcdf9e1bd"
   },
   "outputs": [],
   "source": [
    "print(type(df['Name']))"
   ]
  },
  {
   "cell_type": "code",
   "execution_count": null,
   "metadata": {
    "colab": {
     "base_uri": "https://localhost:8080/",
     "height": 269
    },
    "executionInfo": {
     "elapsed": 538,
     "status": "ok",
     "timestamp": 1721036005572,
     "user": {
      "displayName": "BISHAL ARYAL",
      "userId": "02857193380710935858"
     },
     "user_tz": -345
    },
    "id": "tZRbEBPEu4Xr",
    "outputId": "e1e7357a-6ea0-4cb5-a4bb-75ce27116022"
   },
   "outputs": [],
   "source": [
    "# Select multiple columns\n",
    "df[['Name', 'City']]"
   ]
  },
  {
   "cell_type": "code",
   "execution_count": null,
   "metadata": {
    "colab": {
     "base_uri": "https://localhost:8080/"
    },
    "executionInfo": {
     "elapsed": 4,
     "status": "ok",
     "timestamp": 1721036025755,
     "user": {
      "displayName": "BISHAL ARYAL",
      "userId": "02857193380710935858"
     },
     "user_tz": -345
    },
    "id": "7ii8xdOHvVvB",
    "outputId": "5179d496-6df2-4fe5-86b6-12cb1e9ead62"
   },
   "outputs": [],
   "source": [
    "print(type(df[['Name', 'City']]))"
   ]
  },
  {
   "cell_type": "code",
   "execution_count": null,
   "metadata": {
    "colab": {
     "base_uri": "https://localhost:8080/"
    },
    "executionInfo": {
     "elapsed": 464,
     "status": "ok",
     "timestamp": 1721036038081,
     "user": {
      "displayName": "BISHAL ARYAL",
      "userId": "02857193380710935858"
     },
     "user_tz": -345
    },
    "id": "rLDMDYwwvat5",
    "outputId": "d125e20a-68b6-4b73-bd68-e0091b40e398"
   },
   "outputs": [],
   "source": [
    "# Select a row by index\n",
    "df.loc[0]\n"
   ]
  },
  {
   "cell_type": "markdown",
   "metadata": {
    "id": "mpAeupZTvf8C"
   },
   "source": [
    "##### Filtering Data"
   ]
  },
  {
   "cell_type": "code",
   "execution_count": null,
   "metadata": {
    "colab": {
     "base_uri": "https://localhost:8080/",
     "height": 143
    },
    "executionInfo": {
     "elapsed": 471,
     "status": "ok",
     "timestamp": 1721036065531,
     "user": {
      "displayName": "BISHAL ARYAL",
      "userId": "02857193380710935858"
     },
     "user_tz": -345
    },
    "id": "PZoWHIv2vdtF",
    "outputId": "15661b44-09d6-42ca-b902-76419980d4a4"
   },
   "outputs": [],
   "source": [
    "# Filter rows where Age > 30\n",
    "df[df['Age'] > 30]"
   ]
  },
  {
   "cell_type": "markdown",
   "metadata": {
    "id": "1DH2n1EOOEPO"
   },
   "source": [
    "#### Activity"
   ]
  },
  {
   "cell_type": "markdown",
   "metadata": {
    "id": "TnowE1BhOS1q"
   },
   "source": [
    "Filter the dataframe from previous activity for salary greater than 70000."
   ]
  },
  {
   "cell_type": "code",
   "execution_count": null,
   "metadata": {
    "id": "ZZqXhtnlPfAh"
   },
   "outputs": [],
   "source": [
    "data_dict = {\n",
    "    'Name': ['Alice', 'Bob', 'Charlie', 'David', 'Eva', 'Frank', 'Grace', 'Hannah', 'Ian', 'Jack'],\n",
    "    'Age': [24, 27, 22, 32, 29, 31, 28, 24, 26, 30],\n",
    "    'City': ['New York', 'Los Angeles', 'Chicago', 'Houston', 'Phoenix', 'Philadelphia', 'San Antonio', 'San Diego', 'Dallas', 'San Jose'],\n",
    "    'Salary': [70000, 80000, 65000, 72000, 69000, 75000, 68000, 73000, 71000, 77000]\n",
    "}\n",
    "\n",
    "# Create a DataFrame from the dictionary\n",
    "df_data = pd.DataFrame(data_dict)\n",
    "\n",
    "# Filter data\n"
   ]
  },
  {
   "cell_type": "markdown",
   "metadata": {
    "id": "QeLuvk-gv0Z_"
   },
   "source": [
    "##### Add new columns"
   ]
  },
  {
   "cell_type": "code",
   "execution_count": null,
   "metadata": {
    "colab": {
     "base_uri": "https://localhost:8080/",
     "height": 269
    },
    "executionInfo": {
     "elapsed": 479,
     "status": "ok",
     "timestamp": 1721036203966,
     "user": {
      "displayName": "BISHAL ARYAL",
      "userId": "02857193380710935858"
     },
     "user_tz": -345
    },
    "id": "ufARmEIkv5c-",
    "outputId": "11e084fc-1c49-4fd2-eddf-fff7d0eae351"
   },
   "outputs": [],
   "source": [
    "# Add a new column with default values\n",
    "df['Salary'] = [70000, 80000, 90000, 100000, 500000, 250000, 85000]\n",
    "df"
   ]
  },
  {
   "cell_type": "markdown",
   "metadata": {
    "id": "FR7JO6MwwKvb"
   },
   "source": [
    "##### Renaming Columns"
   ]
  },
  {
   "cell_type": "code",
   "execution_count": null,
   "metadata": {
    "colab": {
     "base_uri": "https://localhost:8080/",
     "height": 269
    },
    "executionInfo": {
     "elapsed": 5,
     "status": "ok",
     "timestamp": 1721036242901,
     "user": {
      "displayName": "BISHAL ARYAL",
      "userId": "02857193380710935858"
     },
     "user_tz": -345
    },
    "id": "OdJPLH9-v8Np",
    "outputId": "aa662b74-7114-401d-c947-8cac9e55121d"
   },
   "outputs": [],
   "source": [
    "# Rename columns\n",
    "df.rename(columns={'Name': 'Full Name', 'City': 'Location'}, inplace=True)\n",
    "df"
   ]
  },
  {
   "cell_type": "markdown",
   "metadata": {
    "id": "xuHkOEluwRDZ"
   },
   "source": [
    "##### Dropping Columns"
   ]
  },
  {
   "cell_type": "code",
   "execution_count": null,
   "metadata": {
    "colab": {
     "base_uri": "https://localhost:8080/",
     "height": 269
    },
    "executionInfo": {
     "elapsed": 488,
     "status": "ok",
     "timestamp": 1721036264008,
     "user": {
      "displayName": "BISHAL ARYAL",
      "userId": "02857193380710935858"
     },
     "user_tz": -345
    },
    "id": "hg_J0Qq4wTn9",
    "outputId": "dc8bf8e4-9484-4e67-c78b-7a9b83d43c1b"
   },
   "outputs": [],
   "source": [
    "# Drop a column\n",
    "df.drop(columns=['Salary'], inplace=True)\n",
    "df\n"
   ]
  },
  {
   "cell_type": "markdown",
   "metadata": {
    "id": "PyE2WX_lwWoN"
   },
   "source": [
    "##### Sorting Data"
   ]
  },
  {
   "cell_type": "code",
   "execution_count": null,
   "metadata": {
    "colab": {
     "base_uri": "https://localhost:8080/",
     "height": 269
    },
    "executionInfo": {
     "elapsed": 654,
     "status": "ok",
     "timestamp": 1721036292762,
     "user": {
      "displayName": "BISHAL ARYAL",
      "userId": "02857193380710935858"
     },
     "user_tz": -345
    },
    "id": "kPpJVDeFwZLy",
    "outputId": "1c769e71-4394-4b3c-e3fe-82cf704b2bcf"
   },
   "outputs": [],
   "source": [
    "# Sort by Age in ascending order\n",
    "df.sort_values(by='Age')"
   ]
  },
  {
   "cell_type": "code",
   "execution_count": null,
   "metadata": {
    "colab": {
     "base_uri": "https://localhost:8080/",
     "height": 269
    },
    "executionInfo": {
     "elapsed": 510,
     "status": "ok",
     "timestamp": 1721036298285,
     "user": {
      "displayName": "BISHAL ARYAL",
      "userId": "02857193380710935858"
     },
     "user_tz": -345
    },
    "id": "A0NNgY5Iwb15",
    "outputId": "a421a5a8-abd4-4745-a644-9ca29e7043d0"
   },
   "outputs": [],
   "source": [
    "# Sort by Age in descending order\n",
    "df.sort_values(by='Age', ascending=False)\n"
   ]
  },
  {
   "cell_type": "markdown",
   "metadata": {
    "id": "8OMWiszDPJ1I"
   },
   "source": [
    "#### Activity"
   ]
  },
  {
   "cell_type": "markdown",
   "metadata": {
    "id": "vb6TCrkPPNHw"
   },
   "source": [
    "Sort the dataframe from previous activity based on salary (both ascending and descending)"
   ]
  },
  {
   "cell_type": "code",
   "execution_count": null,
   "metadata": {
    "id": "gQ-RA4YWPcPi"
   },
   "outputs": [],
   "source": [
    "data_dict = {\n",
    "    'Name': ['Alice', 'Bob', 'Charlie', 'David', 'Eva', 'Frank', 'Grace', 'Hannah', 'Ian', 'Jack'],\n",
    "    'Age': [24, 27, 22, 32, 29, 31, 28, 24, 26, 30],\n",
    "    'City': ['New York', 'Los Angeles', 'Chicago', 'Houston', 'Phoenix', 'Philadelphia', 'San Antonio', 'San Diego', 'Dallas', 'San Jose'],\n",
    "    'Salary': [70000, 80000, 65000, 72000, 69000, 75000, 68000, 73000, 71000, 77000]\n",
    "}\n",
    "\n",
    "# Create a DataFrame from the dictionary\n",
    "df_data = pd.DataFrame(data_dict)\n",
    "\n",
    "# Sort data\n"
   ]
  },
  {
   "cell_type": "markdown",
   "metadata": {
    "id": "52sOAiIGtomJ"
   },
   "source": [
    "#### Pandas vs. Plain Python Approach"
   ]
  },
  {
   "cell_type": "code",
   "execution_count": null,
   "metadata": {
    "colab": {
     "base_uri": "https://localhost:8080/"
    },
    "executionInfo": {
     "elapsed": 39,
     "status": "ok",
     "timestamp": 1721034256433,
     "user": {
      "displayName": "BISHAL ARYAL",
      "userId": "02857193380710935858"
     },
     "user_tz": -345
    },
    "id": "TL4Ix47tcDwc",
    "outputId": "2ab9d56b-e194-4a9c-fc3f-5a55289052e0"
   },
   "outputs": [],
   "source": [
    "# Plain Python Approach\n",
    "# Create a dataset\n",
    "sales_data = [\n",
    "    {'Product': 'A', 'Sales': 100},\n",
    "    {'Product': 'B', 'Sales': 150},\n",
    "    {'Product': 'C', 'Sales': 200},\n",
    "    {'Product': 'D', 'Sales': 250},\n",
    "    {'Product': 'E', 'Sales': 300},\n",
    "]\n",
    "print(sales_data)\n",
    "\n",
    "# Compute the total sales\n",
    "total_sales = sum(item['Sales'] for item in sales_data)\n",
    "print(f\"Total Sales: {total_sales}\")\n",
    "\n",
    "# Compute the average sales\n",
    "average_sales = total_sales / len(sales_data)\n",
    "print(f\"Average Sales: {average_sales}\")\n"
   ]
  },
  {
   "cell_type": "code",
   "execution_count": null,
   "metadata": {
    "colab": {
     "base_uri": "https://localhost:8080/"
    },
    "executionInfo": {
     "elapsed": 6,
     "status": "ok",
     "timestamp": 1721034256434,
     "user": {
      "displayName": "BISHAL ARYAL",
      "userId": "02857193380710935858"
     },
     "user_tz": -345
    },
    "id": "Dk9mYMmeoJOB",
    "outputId": "88dce8e7-fb5e-4304-8de8-4a09c1c78245"
   },
   "outputs": [],
   "source": [
    "# Data transformation\n",
    "for item in sales_data:\n",
    "    item['Sales'] = round(int(item['Sales']) * 1.10, 2)\n",
    "print(sales_data)"
   ]
  },
  {
   "cell_type": "code",
   "execution_count": null,
   "metadata": {
    "colab": {
     "base_uri": "https://localhost:8080/",
     "height": 241
    },
    "executionInfo": {
     "elapsed": 570,
     "status": "ok",
     "timestamp": 1721034205963,
     "user": {
      "displayName": "BISHAL ARYAL",
      "userId": "02857193380710935858"
     },
     "user_tz": -345
    },
    "id": "Y7dznMKqnMjc",
    "outputId": "d1ffe139-c9dc-4ee2-f768-d9623f906488"
   },
   "outputs": [],
   "source": [
    "# Pandas Approach\n",
    "import pandas as pd\n",
    "\n",
    "# Create a dataset using a Pandas DataFrame\n",
    "sales_data = pd.DataFrame({\n",
    "    'Product': ['A', 'B', 'C', 'D', 'E'],\n",
    "    'Sales': [100, 150, 200, 250, 300]\n",
    "})\n",
    "\n",
    "# Compute the total sales\n",
    "total_sales = sales_data['Sales'].sum()\n",
    "print(f\"Total Sales: {total_sales}\")\n",
    "\n",
    "# Compute the average sales\n",
    "average_sales = sales_data['Sales'].mean()\n",
    "print(f\"Average Sales: {average_sales}\")\n",
    "\n",
    "sales_data"
   ]
  },
  {
   "cell_type": "code",
   "execution_count": null,
   "metadata": {
    "colab": {
     "base_uri": "https://localhost:8080/",
     "height": 206
    },
    "executionInfo": {
     "elapsed": 451,
     "status": "ok",
     "timestamp": 1721034215917,
     "user": {
      "displayName": "BISHAL ARYAL",
      "userId": "02857193380710935858"
     },
     "user_tz": -345
    },
    "id": "tkhSEOpTnYg_",
    "outputId": "f286ac07-422a-44ab-da63-b26313c61d37"
   },
   "outputs": [],
   "source": [
    "# Data Tranformation\n",
    "sales_data['Sales'] = sales_data['Sales'] * 1.10\n",
    "sales_data"
   ]
  },
  {
   "cell_type": "markdown",
   "metadata": {
    "id": "IemGFu8Ho7r9"
   },
   "source": [
    "Python also provides a built-in module `csv` to work with csv files.\n"
   ]
  },
  {
   "cell_type": "code",
   "execution_count": null,
   "metadata": {
    "id": "hrQbcwaSo7LV"
   },
   "outputs": [],
   "source": [
    "# We need to use csv module to read and write CSV files\n",
    "import csv\n",
    "\n",
    "# Sample data\n",
    "csv_data = [\n",
    "    ['Name', 'Age', 'City'],\n",
    "    ['Ram', '36', 'Bhaktapur'],\n",
    "    ['Sita', '25', 'Kathmandu'],\n",
    "    ['Laxman', '35', 'Butwal']\n",
    "]\n",
    "\n",
    "# Writing to a CSV file\n",
    "with open('data.csv', 'w') as file:\n",
    "    writer = csv.writer(file)\n",
    "    writer.writerows(csv_data)\n"
   ]
  },
  {
   "cell_type": "code",
   "execution_count": null,
   "metadata": {
    "colab": {
     "base_uri": "https://localhost:8080/"
    },
    "executionInfo": {
     "elapsed": 465,
     "status": "ok",
     "timestamp": 1721035253396,
     "user": {
      "displayName": "BISHAL ARYAL",
      "userId": "02857193380710935858"
     },
     "user_tz": -345
    },
    "id": "Lf7X1OT4scVI",
    "outputId": "defe13a0-788a-4e5b-f132-8537ac695c36"
   },
   "outputs": [],
   "source": [
    "# Read the CSV file and display its contents\n",
    "with open('data.csv', 'r') as file:\n",
    "    reader = csv.reader(file, delimiter=\",\")\n",
    "    for row in reader:\n",
    "        print(row)"
   ]
  },
  {
   "cell_type": "code",
   "execution_count": null,
   "metadata": {
    "colab": {
     "base_uri": "https://localhost:8080/",
     "height": 143
    },
    "executionInfo": {
     "elapsed": 7,
     "status": "ok",
     "timestamp": 1721035281847,
     "user": {
      "displayName": "BISHAL ARYAL",
      "userId": "02857193380710935858"
     },
     "user_tz": -345
    },
    "id": "eeWcc-CLoRvA",
    "outputId": "4757e53e-4a2e-4339-8eac-42a3f5f70810"
   },
   "outputs": [],
   "source": [
    "import pandas as pd\n",
    "\n",
    "# Load data from a CSV file\n",
    "df = pd.read_csv('data.csv')\n",
    "df"
   ]
  },
  {
   "cell_type": "code",
   "execution_count": null,
   "metadata": {
    "colab": {
     "base_uri": "https://localhost:8080/",
     "height": 143
    },
    "executionInfo": {
     "elapsed": 4,
     "status": "ok",
     "timestamp": 1721035379212,
     "user": {
      "displayName": "BISHAL ARYAL",
      "userId": "02857193380710935858"
     },
     "user_tz": -345
    },
    "id": "5iZ2Mx2OskX3",
    "outputId": "74e2de4c-240b-433e-9bc4-d1056a66da6c"
   },
   "outputs": [],
   "source": [
    "df[\"Gender\"] = [\"M\", \"F\", \"M\"]\n",
    "df"
   ]
  },
  {
   "cell_type": "code",
   "execution_count": null,
   "metadata": {
    "id": "IyUzUXgks8u9"
   },
   "outputs": [],
   "source": [
    "# Save data to a CSV File\n",
    "df.to_csv(\"new_data.csv\", index=False)"
   ]
  },
  {
   "cell_type": "markdown",
   "metadata": {
    "id": "Sj1WKsMBtJqj"
   },
   "source": [
    "- We can observe that, Pandas simplifies data loading and saving operations.\n",
    "\n",
    "- It provides powerful tools for data filtering, transforming, cleaning, aggregating, merging and so on."
   ]
  }
 ],
 "metadata": {
  "colab": {
   "collapsed_sections": [
    "wbWyedcViUCG",
    "v7lbiaZHuhbp",
    "76LNNBXbibsA",
    "y7JMlDcqion5",
    "ImLX_EUFSy1Y"
   ],
   "provenance": [],
   "toc_visible": true
  },
  "kernelspec": {
   "display_name": "Python 3 (ipykernel)",
   "language": "python",
   "name": "python3"
  },
  "language_info": {
   "codemirror_mode": {
    "name": "ipython",
    "version": 3
   },
   "file_extension": ".py",
   "mimetype": "text/x-python",
   "name": "python",
   "nbconvert_exporter": "python",
   "pygments_lexer": "ipython3",
   "version": "3.11.5"
  }
 },
 "nbformat": 4,
 "nbformat_minor": 1
}
