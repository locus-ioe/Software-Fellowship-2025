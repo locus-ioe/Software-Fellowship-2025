{
 "cells": [
  {
   "cell_type": "markdown",
   "metadata": {
    "id": "anLlKhFgkpfQ"
   },
   "source": [
    "# Python Assignment Solutions\n"
   ]
  },
  {
   "cell_type": "markdown",
   "metadata": {
    "id": "jts-YojnwPBh"
   },
   "source": [
    "### Question 1: Rock, Paper, Scissors Game\n",
    "\n",
    "Write code for a Rock, Paper, Scissors game using the `random` module in Python.\n",
    "- The program should randomly select an option for the computer.\n",
    "- Compare it with the user's choice to determine the winner.\n",
    "\n",
    "Example output:\n",
    "```\n",
    "User: scissors\n",
    "Computer: paper\n",
    "User Won!\n",
    "```"
   ]
  },
  {
   "cell_type": "code",
   "execution_count": null,
   "metadata": {
    "colab": {
     "base_uri": "https://localhost:8080/"
    },
    "executionInfo": {
     "elapsed": 3790,
     "status": "ok",
     "timestamp": 1721497411537,
     "user": {
      "displayName": "Samip Neupane",
      "userId": "08241621723804647931"
     },
     "user_tz": -345
    },
    "id": "FF0hczY-wLI_",
    "outputId": "289c58f0-3e15-4491-c965-45a32593cc9f"
   },
   "outputs": [],
   "source": [
    "# code here\n",
    "import random\n",
    "\n",
    "events = [\"rock\", \"paper\", \"scissors\"]\n",
    "\n",
    "user_event = input(\"Enter your event: \")\n",
    "computer_event = random.choice(events)\n",
    "\n",
    "print(f\"\\nUser: {user_event}\")\n",
    "print(f\"Computer: {computer_event}\")\n",
    "\n",
    "\n",
    "if user_event == computer_event:\n",
    "    print(\"Draw\")\n",
    "\n",
    "elif (user_event == \"rock\" and computer_event == \"scissors\") or \\\n",
    "    (user_event == \"paper\" and computer_event == \"rock\") or \\\n",
    "    (user_event == \"scissors\" and computer_event == \"paper\"):\n",
    "    print(\"User Won\")\n",
    "\n",
    "else:\n",
    "    print(\"Computer Won\")"
   ]
  },
  {
   "cell_type": "markdown",
   "metadata": {
    "id": "7btGgExFwQBl"
   },
   "source": [
    "### Question 2: Filtering and Sorting Lists\n",
    "\n",
    "Filter and sort the elements into three separate lists in ascending order:\n",
    "\n",
    "`int_list_sorted: `\n",
    "A list of integers sorted in ascending order.\n",
    "\n",
    "`float_list_sorted: `\n",
    "A list of floats sorted in ascending order.\n",
    "\n",
    "`string_list_sorted: `\n",
    "A list of strings sorted in ascending order.\n",
    "```\n",
    "example_list = [1, \"ram\", 3.54, None, 3, \"Sita\", True, 6, \"Hari\", 4.66, False, None, -12, 67.4, 100, \"Ram\", True]\n",
    "```"
   ]
  },
  {
   "cell_type": "code",
   "execution_count": null,
   "metadata": {
    "colab": {
     "base_uri": "https://localhost:8080/"
    },
    "executionInfo": {
     "elapsed": 445,
     "status": "ok",
     "timestamp": 1721497414355,
     "user": {
      "displayName": "Samip Neupane",
      "userId": "08241621723804647931"
     },
     "user_tz": -345
    },
    "id": "LDTq_7lhwQK3",
    "outputId": "50a00a2a-5c19-4348-b414-4dbce7effca4"
   },
   "outputs": [],
   "source": [
    "# code here\n",
    "example_list = [1, \"ram\", 3.54, None, 3, \"Sita\", True, 6, \"Hari\", 4.66, False, None, -12, 67.4, 100, \"Ram\", True]\n",
    "\n",
    "int_list = [x for x in example_list if type(x) ==  int]\n",
    "float_list = [x for x in example_list if type(x) == float]\n",
    "string_list = [x for x in example_list if type(x) == str]\n",
    "\n",
    "int_list_sorted = sorted(int_list)\n",
    "float_list_sorted = sorted(float_list)\n",
    "string_list_sorted = sorted(string_list)\n",
    "\n",
    "print(\"Sorted integer list:\", int_list_sorted)\n",
    "print(\"Sorted float list:\", float_list_sorted)\n",
    "print(\"Sorted string list:\", string_list_sorted)"
   ]
  },
  {
   "cell_type": "markdown",
   "metadata": {
    "id": "A06mw1n3wQT1"
   },
   "source": [
    "### Question 3: Convert While Loop to For Loop\n",
    "Convert the following while loop to a for loop:\n",
    "```\n",
    "odd_list = [num for num in range(11, 21, 2)]\n",
    "prime_list = [11, 13, 17, 19]\n",
    "\n",
    "i = 0\n",
    "while i < len(odd_list):\n",
    "\n",
    "  if odd_list[i] % 2 != 0:\n",
    "    print(f\"\\n{odd_list[i]} is an odd number:\")\n",
    "\n",
    "    j = 0\n",
    "    while j < len(prime_list):\n",
    "\n",
    "      if odd_list[i] == prime_list[j]:\n",
    "        print(\"It is also a prime number\")\n",
    "        break\n",
    "\n",
    "      j += 1\n",
    "  i += 1\n",
    "```"
   ]
  },
  {
   "cell_type": "code",
   "execution_count": null,
   "metadata": {
    "colab": {
     "base_uri": "https://localhost:8080/"
    },
    "executionInfo": {
     "elapsed": 425,
     "status": "ok",
     "timestamp": 1721497416953,
     "user": {
      "displayName": "Samip Neupane",
      "userId": "08241621723804647931"
     },
     "user_tz": -345
    },
    "id": "PVF_fT_iwQaw",
    "outputId": "ad0dd0d4-5f33-48ca-afd6-c6777613a58b"
   },
   "outputs": [],
   "source": [
    "# code here\n",
    "odd_list = [num for num in range(11, 21, 2)]\n",
    "prime_list = [11, 13, 17, 19]\n",
    "\n",
    "for odd_num in odd_list:\n",
    "\n",
    "    if odd_num % 2 != 0:\n",
    "        print(f\"\\n{odd_num} is an odd number:\")\n",
    "\n",
    "        if odd_num in prime_list:\n",
    "            print(\"It is also a prime number\")"
   ]
  },
  {
   "cell_type": "markdown",
   "metadata": {
    "id": "LjwdodPhGC-B"
   },
   "source": [
    "### Question 4:\n",
    "Write a Python program that prints the numbers from 1 to 50. For multiples of 3, print \"Tech\" instead of the number, and for multiples of 5, print \"Axis\". For numbers which are multiples of both 3 and 5, print \"TechAxis\".\n",
    "\n",
    "```\n",
    "Expected Output:\n",
    "1, 2, Tech, 4, Axis, Tech, 7, 8, Tech, Axis, 11, Tech, 13, 14, TechAxis ....\n",
    "```"
   ]
  },
  {
   "cell_type": "code",
   "execution_count": null,
   "metadata": {
    "colab": {
     "base_uri": "https://localhost:8080/"
    },
    "executionInfo": {
     "elapsed": 695,
     "status": "ok",
     "timestamp": 1721497419882,
     "user": {
      "displayName": "Samip Neupane",
      "userId": "08241621723804647931"
     },
     "user_tz": -345
    },
    "id": "tW4ZxuP6GEp3",
    "outputId": "47355fa6-8de2-4fbf-c39f-8ab3ff087d8b"
   },
   "outputs": [],
   "source": [
    "# code here\n",
    "for num in range(1, 51):\n",
    "    if num % 3 == 0 and num % 5 == 0:\n",
    "        print(\"TechAxis\")\n",
    "    elif num % 3 == 0:\n",
    "        print(\"Tech\")\n",
    "    elif num % 5 == 0:\n",
    "        print(\"Axis\")\n",
    "    else:\n",
    "        print(num)"
   ]
  },
  {
   "cell_type": "markdown",
   "metadata": {
    "id": "PjaJVkUMG1pS"
   },
   "source": [
    "### Question 5:\n",
    "Write a Python program that functions as a simple calculator. It should be able to perform addition, subtraction, multiplication, and division operations.<br>\n",
    "Use function for each operations.<br>\n",
    "Try exception handling for division by zero error.\n",
    "\n",
    "Example Output:\n",
    "```\n",
    "operation = divide\n",
    "x = 5\n",
    "y = 2\n",
    "Result: 2.5\n",
    "```"
   ]
  },
  {
   "cell_type": "code",
   "execution_count": null,
   "metadata": {
    "colab": {
     "base_uri": "https://localhost:8080/"
    },
    "executionInfo": {
     "elapsed": 5448,
     "status": "ok",
     "timestamp": 1721497427218,
     "user": {
      "displayName": "Samip Neupane",
      "userId": "08241621723804647931"
     },
     "user_tz": -345
    },
    "id": "B2L0n5uMG3Q4",
    "outputId": "4614427c-72de-4ada-ccbb-be3e9696d870"
   },
   "outputs": [],
   "source": [
    "# code here\n",
    "def add(x, y):\n",
    "    return x + y\n",
    "\n",
    "def subtract(x, y):\n",
    "    return x - y\n",
    "\n",
    "def multiply(x, y):\n",
    "    return x * y\n",
    "\n",
    "def divide(x, y):\n",
    "  try:\n",
    "    return x / y\n",
    "  except ZeroDivisionError:\n",
    "    return \"Cannot divide by zero!\"\n",
    "\n",
    "# User input\n",
    "operation = input(\"operation (add, subtract, multiply, divide): \").strip().lower()\n",
    "num1 = float(input(\"x = \"))\n",
    "num2 = float(input(\"y = \"))\n",
    "\n",
    "if operation == \"add\":\n",
    "    print(f\"Result: {add(num1, num2)}\")\n",
    "elif operation == \"subtract\":\n",
    "    print(f\"Result: {subtract(num1, num2)}\")\n",
    "elif operation == \"multiply\":\n",
    "    print(f\"Result: {multiply(num1, num2)}\")\n",
    "elif operation == \"divide\":\n",
    "    print(f\"Result: {divide(num1, num2)}\")\n",
    "else:\n",
    "    print(\"Invalid operation selected!\")\n"
   ]
  },
  {
   "cell_type": "markdown",
   "metadata": {
    "id": "E3WwyxHqFe-E"
   },
   "source": [
    "### Question 6: Exception Handling\n",
    "3Write a Python program that opens a file and handles a FileNotFoundError exception if the file does not exist."
   ]
  },
  {
   "cell_type": "code",
   "execution_count": null,
   "metadata": {
    "colab": {
     "base_uri": "https://localhost:8080/"
    },
    "executionInfo": {
     "elapsed": 455,
     "status": "ok",
     "timestamp": 1721497431554,
     "user": {
      "displayName": "Samip Neupane",
      "userId": "08241621723804647931"
     },
     "user_tz": -345
    },
    "id": "KoLUUtBOFiQk",
    "outputId": "b4c234e9-e7ac-4063-ffd2-66b3f9bac35c"
   },
   "outputs": [],
   "source": [
    "# code here\n",
    "def read_file(file_path):\n",
    "    try:\n",
    "        with open(file_path, 'r') as file:\n",
    "            content = file.read()\n",
    "            print(\"File content:\")\n",
    "            print(content)\n",
    "    except FileNotFoundError:\n",
    "        print(f\"Error: The file '{file_path}' does not exist.\")\n",
    "\n",
    "# Test the function with a file path\n",
    "file_path = 'example.txt'\n",
    "read_file(file_path)"
   ]
  },
  {
   "cell_type": "markdown",
   "metadata": {
    "id": "VLVp6NQFEStx"
   },
   "source": [
    "### Question 7: File Handling\n",
    " Write a program that reads the contents of example.txt and writes them to a new file named file2.txt."
   ]
  },
  {
   "cell_type": "code",
   "execution_count": null,
   "metadata": {
    "id": "0KeqO_1jEYF2"
   },
   "outputs": [],
   "source": [
    "# code here\n",
    "\n",
    "#create a new file if already don't exist\n",
    "with open('example.txt','w') as file:\n",
    "  file.write(\"Hello World\")\n",
    "\n",
    "\n",
    "with open('example.txt','r') as file:\n",
    "  content = file.read()\n",
    "\n",
    "with open('file2.txt','w') as file:\n",
    "  file.write(content)"
   ]
  },
  {
   "cell_type": "code",
   "execution_count": null,
   "metadata": {
    "colab": {
     "base_uri": "https://localhost:8080/"
    },
    "executionInfo": {
     "elapsed": 424,
     "status": "ok",
     "timestamp": 1721497547118,
     "user": {
      "displayName": "Samip Neupane",
      "userId": "08241621723804647931"
     },
     "user_tz": -345
    },
    "id": "OgsM9MGCPDR-",
    "outputId": "79ac197a-75e9-4bab-b1ea-1ff4b8c5e74a"
   },
   "outputs": [],
   "source": [
    "import os\n",
    "\n",
    "#list of all files\n",
    "print(os.listdir())\n",
    "\n",
    "#to check particular file if exists\n",
    "print(os.path.isfile('example.txt'))\n",
    "print(os.path.isfile('file2.txt'))"
   ]
  }
 ],
 "metadata": {
  "colab": {
   "provenance": []
  },
  "kernelspec": {
   "display_name": "Python 3 (ipykernel)",
   "language": "python",
   "name": "python3"
  },
  "language_info": {
   "codemirror_mode": {
    "name": "ipython",
    "version": 3
   },
   "file_extension": ".py",
   "mimetype": "text/x-python",
   "name": "python",
   "nbconvert_exporter": "python",
   "pygments_lexer": "ipython3",
   "version": "3.11.5"
  }
 },
 "nbformat": 4,
 "nbformat_minor": 1
}
