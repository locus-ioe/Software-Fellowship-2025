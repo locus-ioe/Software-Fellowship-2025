{
 "cells": [
  {
   "cell_type": "markdown",
   "metadata": {
    "id": "Tyi3ADg1k_Kb"
   },
   "source": [
    "# 1. Variables and Data Types"
   ]
  },
  {
   "cell_type": "markdown",
   "metadata": {
    "id": "bQkkerpA0O8M"
   },
   "source": [
    "**Variables**:\n",
    "- Containers for storing data values. In Python, variables do not need explicit declaration to reserve memory space.\n",
    "\n",
    "**Data Types**:\n",
    "- Common data types in Python include integers (`int`), floating-point numbers (`float`), strings (`str`), and booleans (`bool`).\n",
    "\n",
    "**Type Conversion**:\n",
    "- Converting data types using functions like `int()`, `float()`, `str()`, `bool()`.\n",
    "\n",
    "**Checking Type**:\n",
    "- Use `type()` to check the type of a variable.\n",
    "\n",
    "**String Formatting**:\n",
    "- Concatenation: `print(\"Software\" + var)`\n",
    "- Comma separation: `print(\"Software\", var)`\n",
    "- f-string: `print(f\"Software{var}\")`"
   ]
  },
  {
   "cell_type": "code",
   "execution_count": null,
   "metadata": {
    "colab": {
     "base_uri": "https://localhost:8080/"
    },
    "executionInfo": {
     "elapsed": 460,
     "status": "ok",
     "timestamp": 1721493279495,
     "user": {
      "displayName": "Samip Neupane",
      "userId": "08241621723804647931"
     },
     "user_tz": -345
    },
    "id": "ujRHN_iq2GIn",
    "outputId": "6af6f31f-b2aa-428d-e451-ae509ab28a84"
   },
   "outputs": [],
   "source": [
    "print(\"Software Fellowship\")\n",
    "\n",
    "print(\"Hello\", end = \" \")\n",
    "print(\"World\")\n",
    "\n",
    "print(\"Tech\", end= \"-\")\n",
    "print(\"Axis\")"
   ]
  },
  {
   "cell_type": "code",
   "execution_count": null,
   "metadata": {
    "id": "s5IqARzp1irm"
   },
   "outputs": [],
   "source": [
    "# Variable declaration\n",
    "name = \"Tech Axis\"\n",
    "established = 2017\n",
    "distance = 1.65\n",
    "sponsor = True\n",
    "extra_info = None"
   ]
  },
  {
   "cell_type": "code",
   "execution_count": null,
   "metadata": {
    "colab": {
     "base_uri": "https://localhost:8080/"
    },
    "executionInfo": {
     "elapsed": 6,
     "status": "ok",
     "timestamp": 1721493283345,
     "user": {
      "displayName": "Samip Neupane",
      "userId": "08241621723804647931"
     },
     "user_tz": -345
    },
    "id": "1x2VgJbP2ejR",
    "outputId": "db4c0b44-6d3f-4777-9769-54fb299460f7"
   },
   "outputs": [],
   "source": [
    "# Checking type\n",
    "print(type(name))\n",
    "print(type(established))\n",
    "print(type(distance))\n",
    "print(type(sponsor))\n",
    "print(type(extra_info))"
   ]
  },
  {
   "cell_type": "code",
   "execution_count": null,
   "metadata": {
    "colab": {
     "base_uri": "https://localhost:8080/"
    },
    "executionInfo": {
     "elapsed": 6,
     "status": "ok",
     "timestamp": 1721493285075,
     "user": {
      "displayName": "Samip Neupane",
      "userId": "08241621723804647931"
     },
     "user_tz": -345
    },
    "id": "LcakCX0r2r-L",
    "outputId": "a91a03e3-7a66-42a5-acde-fe5b75ec5fa2"
   },
   "outputs": [],
   "source": [
    "# Type conversion\n",
    "age_str = str(established)\n",
    "print(age_str, \"\\n\", type(age_str))"
   ]
  },
  {
   "cell_type": "code",
   "execution_count": null,
   "metadata": {
    "colab": {
     "base_uri": "https://localhost:8080/"
    },
    "executionInfo": {
     "elapsed": 6,
     "status": "ok",
     "timestamp": 1721493286852,
     "user": {
      "displayName": "Samip Neupane",
      "userId": "08241621723804647931"
     },
     "user_tz": -345
    },
    "id": "ySTMZw5G2-hS",
    "outputId": "2501a254-0c71-4905-de7b-6ee58243930f"
   },
   "outputs": [],
   "source": [
    "# String formatting\n",
    "var = \"Fellowship\"\n",
    "\n",
    "print(\"Software\" + var)   # Concatenation\n",
    "print(\"Software\", var)    # Comma separation\n",
    "print(f\"Software{var}\")   # f-string"
   ]
  },
  {
   "cell_type": "markdown",
   "metadata": {
    "id": "-jmlL-ZJ3xN0"
   },
   "source": [
    "### QUESTION\n",
    "What will be the output of the following prints?\n",
    "```\n",
    "print(\"apple\" + 5)\n",
    "print(\"apple\", 5)\n",
    "print(f\"apple{5}\")\n",
    "```"
   ]
  },
  {
   "cell_type": "code",
   "execution_count": null,
   "metadata": {
    "id": "lHdXRyAg5FqG"
   },
   "outputs": [],
   "source": []
  },
  {
   "cell_type": "markdown",
   "metadata": {
    "id": "8Kq8b8j2lCRf"
   },
   "source": [
    "# 2. Input"
   ]
  },
  {
   "cell_type": "markdown",
   "metadata": {
    "id": "2ZCp_5Gd5GAk"
   },
   "source": [
    "- **Input**: Use the `input()` function to get user input. The input is always a string.\n",
    "- **Type Conversion**: Convert the input string to other types like `int()`, `float()`, `bool()` if needed.\n"
   ]
  },
  {
   "cell_type": "code",
   "execution_count": null,
   "metadata": {
    "colab": {
     "base_uri": "https://localhost:8080/"
    },
    "executionInfo": {
     "elapsed": 4417,
     "status": "ok",
     "timestamp": 1721493295001,
     "user": {
      "displayName": "Samip Neupane",
      "userId": "08241621723804647931"
     },
     "user_tz": -345
    },
    "id": "9KXjE1Xc5Z-r",
    "outputId": "928fb5b2-8a2d-432d-d729-8b1b4fdf382a"
   },
   "outputs": [],
   "source": [
    "user_name = input(\"Enter your name: \")\n",
    "print(f\"Your name is {user_name}\")"
   ]
  },
  {
   "cell_type": "markdown",
   "metadata": {
    "id": "yJzrST405_qF"
   },
   "source": [
    "### QUESTION\n",
    "What will happen if you try the following?\n",
    "```\n",
    "num = input(\"Enter a number: \")\n",
    "result = num + 5\n",
    "print(result)\n",
    "```"
   ]
  },
  {
   "cell_type": "code",
   "execution_count": null,
   "metadata": {
    "id": "16JOjSzT5lbt"
   },
   "outputs": [],
   "source": []
  },
  {
   "cell_type": "markdown",
   "metadata": {
    "id": "Eap0oe3ulFlK"
   },
   "source": [
    "# 3. Comments"
   ]
  },
  {
   "cell_type": "markdown",
   "metadata": {
    "id": "AVqyXxVF7pWs"
   },
   "source": [
    "\n",
    "- **Single-line comment**: Use `#` at the beginning of the comment.\n",
    "- **Multi-line comment**: Use triple quotes `'''` or `\"\"\"`."
   ]
  },
  {
   "cell_type": "code",
   "execution_count": null,
   "metadata": {
    "colab": {
     "base_uri": "https://localhost:8080/",
     "height": 36
    },
    "executionInfo": {
     "elapsed": 13,
     "status": "ok",
     "timestamp": 1721493303717,
     "user": {
      "displayName": "Samip Neupane",
      "userId": "08241621723804647931"
     },
     "user_tz": -345
    },
    "id": "GqeU4-Kd77Ra",
    "outputId": "133ed7e3-287f-4bc9-fdcd-07514e0961c6"
   },
   "outputs": [],
   "source": [
    "# Software Fellowship\n",
    "\n",
    "\"\"\"\n",
    "Software\n",
    "Fellowship\n",
    "\"\"\""
   ]
  },
  {
   "cell_type": "markdown",
   "metadata": {
    "id": "gqRiowXelIi6"
   },
   "source": [
    "# 4. Operators"
   ]
  },
  {
   "cell_type": "markdown",
   "metadata": {
    "id": "G1tXwVZC8Ug7"
   },
   "source": [
    "\n",
    "- **Arithmetic Operators**: `+`, `-`, `*`, `/`, `//`, `%`, `**`\n",
    "  - `**`: Exponentiation\n",
    "  - `//`: Floor division\n",
    "- **Comparison Operators**: `==`, `!=`, `>`, `<`, `>=`, `<=`\n",
    "- **Logical Operators**: `and`, `or`, `not`\n",
    "- **Assignment Operators**: `=`, `+=`, `-=`, `*=`, `/=`, `//=`, `%=`, `**=`\n"
   ]
  },
  {
   "cell_type": "code",
   "execution_count": null,
   "metadata": {
    "colab": {
     "base_uri": "https://localhost:8080/"
    },
    "executionInfo": {
     "elapsed": 7,
     "status": "ok",
     "timestamp": 1721493306744,
     "user": {
      "displayName": "Samip Neupane",
      "userId": "08241621723804647931"
     },
     "user_tz": -345
    },
    "id": "CqW3hGnr9pdX",
    "outputId": "2f331fdc-b473-4a3e-a172-d4f2004421d6"
   },
   "outputs": [],
   "source": [
    "messi = 10\n",
    "ronaldo = 7\n",
    "num = -3.54\n",
    "\n",
    "players = True\n",
    "coach = False\n",
    "\n",
    "print(messi + ronaldo)\n",
    "print(messi - ronaldo)\n",
    "print(messi * ronaldo)\n",
    "print(messi / ronaldo)\n",
    "print(messi % ronaldo)\n",
    "print(messi // ronaldo)   # Floor Division\n",
    "print(messi ** ronaldo)   # Exponential\n",
    "print(round(num))\n",
    "print(abs(num), \"\\n\")\n",
    "\n",
    "print(messi == ronaldo)\n",
    "print(messi != ronaldo)\n",
    "print(messi > ronaldo)\n",
    "print(messi < ronaldo)\n",
    "print(messi >= ronaldo)\n",
    "print(messi <= ronaldo, \"\\n\")\n",
    "\n",
    "print(messi == 10 and ronaldo == 7)\n",
    "print(coach or not(players), \"\\n\")"
   ]
  },
  {
   "cell_type": "markdown",
   "metadata": {
    "id": "KFRvOfT4_6xX"
   },
   "source": [
    "**Importing Modules**:\n",
    "- `math`: Provides mathematical functions.\n",
    "- `random`: Provides functions for generating random numbers."
   ]
  },
  {
   "cell_type": "code",
   "execution_count": null,
   "metadata": {
    "colab": {
     "base_uri": "https://localhost:8080/"
    },
    "executionInfo": {
     "elapsed": 525,
     "status": "ok",
     "timestamp": 1721493311520,
     "user": {
      "displayName": "Samip Neupane",
      "userId": "08241621723804647931"
     },
     "user_tz": -345
    },
    "id": "DJWbCfZn-uQ8",
    "outputId": "7a149722-c8b9-4ecd-f00f-05804d6e1c17"
   },
   "outputs": [],
   "source": [
    "import math\n",
    "\n",
    "pi = math.pi\n",
    "infinity = math.inf\n",
    "\n",
    "\n",
    "print(math.ceil(pi))\n",
    "print(math.floor(pi), \"\\n\")\n",
    "\n",
    "print(math.sqrt(pi))\n",
    "print(math.factorial(5), \"\\n\")\n",
    "\n",
    "print(math.sin(pi), \"\\n\")\n",
    "\n",
    "print(math.degrees(pi))\n",
    "print(math.radians(180), \"\\n\")\n",
    "\n",
    "\n",
    "print(math.perm(6, 2), \"\\n\")\n",
    "\n",
    "print(math.gcd(50, 10, 20))\n",
    "print(math.lcm(3, 7, 5, 10), \"\\n\")\n",
    "\n",
    "print(math.copysign(pi, -1))"
   ]
  },
  {
   "cell_type": "code",
   "execution_count": null,
   "metadata": {
    "colab": {
     "base_uri": "https://localhost:8080/"
    },
    "executionInfo": {
     "elapsed": 4,
     "status": "ok",
     "timestamp": 1721493314699,
     "user": {
      "displayName": "Samip Neupane",
      "userId": "08241621723804647931"
     },
     "user_tz": -345
    },
    "id": "7QoL2Vm1-WdD",
    "outputId": "b3331f46-477d-4f8a-f566-d418129c3e58"
   },
   "outputs": [],
   "source": [
    "#Importing Factorial function from math module directly\n",
    "from math import factorial\n",
    "print(factorial(5))"
   ]
  },
  {
   "cell_type": "code",
   "execution_count": null,
   "metadata": {
    "colab": {
     "base_uri": "https://localhost:8080/"
    },
    "executionInfo": {
     "elapsed": 6,
     "status": "ok",
     "timestamp": 1721493316861,
     "user": {
      "displayName": "Samip Neupane",
      "userId": "08241621723804647931"
     },
     "user_tz": -345
    },
    "id": "mQkCl5j_ACHz",
    "outputId": "7b305956-e951-4b44-b3d5-bf198dad2208"
   },
   "outputs": [],
   "source": [
    "import random\n",
    "\n",
    "# Generate a random float in [0.0, 1.0)\n",
    "print(random.random())\n",
    "\n",
    "# Generate a random float in [1.0, 10.0]\n",
    "print(random.uniform(-5.0, 3.0))\n",
    "\n",
    "# Generate a random integer in [1, 10]\n",
    "print(random.randint(1, 48))"
   ]
  },
  {
   "cell_type": "code",
   "execution_count": null,
   "metadata": {
    "colab": {
     "base_uri": "https://localhost:8080/"
    },
    "executionInfo": {
     "elapsed": 7,
     "status": "ok",
     "timestamp": 1721493320580,
     "user": {
      "displayName": "Samip Neupane",
      "userId": "08241621723804647931"
     },
     "user_tz": -345
    },
    "id": "C1s7njsfC2v6",
    "outputId": "9c0f78c1-62ca-4668-c377-3bc7047a47ac"
   },
   "outputs": [],
   "source": [
    "my_list = [1, 2, 3, 4, 5]\n",
    "\n",
    "# Shuffle a list\n",
    "random.shuffle(my_list)\n",
    "print(my_list)\n",
    "\n",
    "# Choose a random element from a list\n",
    "print(random.choice(my_list))\n",
    "\n",
    "# Get a random sample of 3 elements from a list\n",
    "print(random.sample(my_list, 3))"
   ]
  },
  {
   "cell_type": "markdown",
   "metadata": {
    "id": "pUzKWt7bEa1w"
   },
   "source": [
    "### QUESTION\n",
    "Which of the following prints are valid?\n",
    "```\n",
    "print(\"5\" * \"4\")\n",
    "print(5 * \"4\")\n",
    "print(\"5\" * 4)\n",
    "print(5 * 4)\n",
    "```"
   ]
  },
  {
   "cell_type": "code",
   "execution_count": null,
   "metadata": {
    "id": "VAv0epnLEbeB"
   },
   "outputs": [],
   "source": []
  },
  {
   "cell_type": "markdown",
   "metadata": {
    "id": "Gmic3PW8lLe5"
   },
   "source": [
    "# 5. Strings"
   ]
  },
  {
   "cell_type": "markdown",
   "metadata": {
    "id": "nLWgHT3e_aza"
   },
   "source": [
    "\n",
    "Strings in python are surrounded by either single quotation marks, or double quotation marks. '*Pulchowk*' is the same as \"*Pulchowk*\".\n",
    "\n",
    "## String are Arrays\n",
    "In Python, strings are similar to those in many other programming languages—they are arrays of bytes that represent Unicode characters.\n",
    "\n",
    "Unlike some languages, Python doesn’t have a separate character data type. Instead, a single character is just a string with one element.\n",
    "\n",
    "You can use square brackets to access parts of the string."
   ]
  },
  {
   "cell_type": "code",
   "execution_count": null,
   "metadata": {
    "colab": {
     "base_uri": "https://localhost:8080/"
    },
    "executionInfo": {
     "elapsed": 454,
     "status": "ok",
     "timestamp": 1721493329397,
     "user": {
      "displayName": "Samip Neupane",
      "userId": "08241621723804647931"
     },
     "user_tz": -345
    },
    "id": "spi5KJ0mCvjq",
    "outputId": "c7fa9e38-e88d-4b56-e5a3-9e06e20179e1"
   },
   "outputs": [],
   "source": [
    "example_string = \"Tech, Axis!\"\n",
    "\n",
    "# String Indexing\n",
    "print(example_string[0])\n",
    "print(example_string[4])\n",
    "print(example_string[-1])\n",
    "print(example_string[-5], \"\\n\")\n",
    "\n",
    "# String to Uppercase, Lowercase, Swapcase\n",
    "print(example_string.upper())\n",
    "print(example_string.lower())\n",
    "print(example_string.swapcase(), \"\\n\")\n",
    "\n",
    "# Find and Replace\n",
    "print(example_string.find(\"Tech\"))    # Returns the lowest index in the string where the substring is found\n",
    "print(example_string.find(\"xi\"))\n",
    "print(example_string.find(\"Job\"))     # Returns -1 if the substring is not found.\n",
    "print(example_string.replace(\"Tech\", \"Job\"))"
   ]
  },
  {
   "cell_type": "markdown",
   "metadata": {
    "id": "hFq8Il4eCcD_"
   },
   "source": [
    "### QUESTION\n",
    "What does the following code Output?\n",
    "```\n",
    "text = \"software fellowships\"\n",
    "print(text.title())\n",
    "print(text.find(\"o\"))\n",
    "print(text.find(\"o\", 2))\n",
    "print(text[::-1])\n",
    "```"
   ]
  },
  {
   "cell_type": "code",
   "execution_count": null,
   "metadata": {
    "id": "15N0mKMDCliA"
   },
   "outputs": [],
   "source": []
  },
  {
   "cell_type": "markdown",
   "metadata": {
    "id": "Q6fxQnqElOIv"
   },
   "source": [
    "# 6. Flow Control: Selection"
   ]
  },
  {
   "cell_type": "markdown",
   "metadata": {
    "id": "PpePjJVHGICD"
   },
   "source": [
    "\n",
    "### **Conditional Statements: if, elif, else**\n",
    "Conditional statements in Python allow you to execute different blocks of code based on certain conditions. These statements are used to make decisions in your code.\n",
    "\n",
    "## **Basic Syntax**\n",
    "### **if Statement:**\n",
    "The if statement is used to test a condition. If the condition is True, the block of code inside the if statement is executed.\n",
    "\n",
    "### **elif Statement:**\n",
    "The elif (short for \"else if\") statement allows you to check multiple expressions for True and execute a block of code as soon as one of the conditions is True. You can have multiple elif statements.\n",
    "\n",
    "### **else statement:**\n",
    "The else statement catches anything that isn't caught by the preceding conditions. The block of code inside the else statement is executed if all the previous conditions are False."
   ]
  },
  {
   "cell_type": "code",
   "execution_count": null,
   "metadata": {
    "colab": {
     "base_uri": "https://localhost:8080/"
    },
    "executionInfo": {
     "elapsed": 454,
     "status": "ok",
     "timestamp": 1721493335156,
     "user": {
      "displayName": "Samip Neupane",
      "userId": "08241621723804647931"
     },
     "user_tz": -345
    },
    "id": "HPUgSPPWGHHj",
    "outputId": "c92dcf5f-b408-4bb1-ae7a-5e30ebc2dcb7"
   },
   "outputs": [],
   "source": [
    "score = 85\n",
    "\n",
    "if score >= 90:\n",
    "    grade = 'A'\n",
    "elif score >= 80:\n",
    "    grade = 'B'\n",
    "elif score >= 70:\n",
    "    grade = 'C'\n",
    "elif score >= 60:\n",
    "    grade = 'D'\n",
    "else:\n",
    "    grade = 'F'\n",
    "\n",
    "print(f\"The grade is: {grade}\")"
   ]
  },
  {
   "cell_type": "markdown",
   "metadata": {
    "id": "fp1izli0HaWC"
   },
   "source": [
    "### QUESTION\n",
    "What grade would be given for this case?</br>\n",
    "Compare it with the grade determined in the previous example.</br>\n",
    "(Think before running the cell below)\n"
   ]
  },
  {
   "cell_type": "code",
   "execution_count": null,
   "metadata": {
    "colab": {
     "base_uri": "https://localhost:8080/"
    },
    "executionInfo": {
     "elapsed": 7,
     "status": "ok",
     "timestamp": 1721493338152,
     "user": {
      "displayName": "Samip Neupane",
      "userId": "08241621723804647931"
     },
     "user_tz": -345
    },
    "id": "ODGbTIMTGHNa",
    "outputId": "7f9dcc03-d98e-4149-b208-dbdf2199eb4a"
   },
   "outputs": [],
   "source": [
    "score = 85\n",
    "\n",
    "if score >= 70:\n",
    "    grade = 'C'\n",
    "elif score >= 90:\n",
    "    grade = 'A'\n",
    "elif score >= 80:\n",
    "    grade = 'B'\n",
    "elif score >= 60:\n",
    "    grade = 'D'\n",
    "else:\n",
    "    grade = 'F'\n",
    "\n",
    "print(f\"The grade is: {grade}\")"
   ]
  },
  {
   "cell_type": "markdown",
   "metadata": {
    "id": "_UfHb8hbI_c7"
   },
   "source": [
    "## Short Hand If ... Else\n",
    "If you have only one statement to execute, one for if, and one for else, you can put it all on the same line\n",
    "\n",
    "You can also have multiple else statements on the same line"
   ]
  },
  {
   "cell_type": "code",
   "execution_count": null,
   "metadata": {
    "colab": {
     "base_uri": "https://localhost:8080/"
    },
    "executionInfo": {
     "elapsed": 482,
     "status": "ok",
     "timestamp": 1721493391607,
     "user": {
      "displayName": "Samip Neupane",
      "userId": "08241621723804647931"
     },
     "user_tz": -345
    },
    "id": "Sm6RI0nOIwzP",
    "outputId": "0e4d325b-0206-4557-b427-072b20716162"
   },
   "outputs": [],
   "source": [
    "a = 420\n",
    "b = 330\n",
    "\n",
    "print(\"A\") if a > b else print(\"B\")\n",
    "print(\"A\") if a > b else print(\"=\") if a == b else print(\"B\")"
   ]
  },
  {
   "cell_type": "markdown",
   "metadata": {
    "id": "AfZygHSqiWZa"
   },
   "source": [
    "## The pass Statement"
   ]
  },
  {
   "cell_type": "code",
   "execution_count": null,
   "metadata": {
    "id": "BML-5tVTf0If"
   },
   "outputs": [],
   "source": [
    "a, b = 33, 200\n",
    "\n",
    "if b > a:\n",
    "  pass"
   ]
  },
  {
   "cell_type": "markdown",
   "metadata": {
    "id": "jZZHm3fwjBgm"
   },
   "source": [
    "## Nested If statement\n",
    "### Change the temperature and is_raining variable and observe the output"
   ]
  },
  {
   "cell_type": "code",
   "execution_count": null,
   "metadata": {
    "colab": {
     "base_uri": "https://localhost:8080/"
    },
    "executionInfo": {
     "elapsed": 476,
     "status": "ok",
     "timestamp": 1721493401786,
     "user": {
      "displayName": "Samip Neupane",
      "userId": "08241621723804647931"
     },
     "user_tz": -345
    },
    "id": "pCy-vXaWi9Pj",
    "outputId": "90298d82-e4ae-4217-feb9-12973bfd4ef4"
   },
   "outputs": [],
   "source": [
    "temperature = 25\n",
    "is_raining = True\n",
    "\n",
    "if temperature > 30:\n",
    "    print(\"It's hot outside.\")\n",
    "    if is_raining:\n",
    "        print(\"Wear light clothes and take an umbrella.\")\n",
    "    else:\n",
    "        print(\"Wear light clothes and don't worry about rain.\")\n",
    "elif temperature > 20:\n",
    "    print(\"The weather is warm.\")\n",
    "    if is_raining:\n",
    "        print(\"Wear a light jacket and take an umbrella.\")\n",
    "    else:\n",
    "        print(\"Wear a light jacket and enjoy the weather.\")\n",
    "elif temperature > 10:\n",
    "    print(\"It's a bit chilly.\")\n",
    "    if is_raining:\n",
    "        print(\"Wear a warm jacket and take an umbrella.\")\n",
    "    else:\n",
    "        print(\"Wear a warm jacket.\")\n",
    "else:\n",
    "    print(\"It's cold outside.\")\n",
    "    if is_raining:\n",
    "        print(\"Wear a heavy coat and take an umbrella.\")\n",
    "    else:\n",
    "        print(\"Wear a heavy coat.\")"
   ]
  },
  {
   "cell_type": "markdown",
   "metadata": {
    "id": "seAUD-HZlROw"
   },
   "source": [
    "# 7. Flow Control: Repetition"
   ]
  },
  {
   "cell_type": "markdown",
   "metadata": {
    "id": "gK05qMIpj4lR"
   },
   "source": [
    "\n",
    "\n",
    "## While Loop\n",
    "Loops allow you to execute a block of code multiple times. Python provides two types of loops: while and for.\n",
    "### **Syntax**\n",
    "```\n",
    "while condition:\n",
    "    # Code to execute\n",
    "\n",
    "```\n",
    "\n"
   ]
  },
  {
   "cell_type": "code",
   "execution_count": null,
   "metadata": {
    "colab": {
     "base_uri": "https://localhost:8080/"
    },
    "executionInfo": {
     "elapsed": 503,
     "status": "ok",
     "timestamp": 1721493405035,
     "user": {
      "displayName": "Samip Neupane",
      "userId": "08241621723804647931"
     },
     "user_tz": -345
    },
    "id": "9II1MA8Lj0Wt",
    "outputId": "b6b7076d-4abd-427d-908a-624ec2c25f20"
   },
   "outputs": [],
   "source": [
    "count = 0\n",
    "while count < 5:\n",
    "    print(\"Count is:\", count)\n",
    "    count += 1"
   ]
  },
  {
   "cell_type": "markdown",
   "metadata": {
    "id": "l3_ZtWKWm6BM"
   },
   "source": [
    "## For Loop\n",
    "A for loop iterates over a sequence (such as a list, tuple, or string) and executes a block of code for each element in the sequence.\n",
    "```\n",
    "for element in sequence:\n",
    "    # Code to execute\n",
    "```"
   ]
  },
  {
   "cell_type": "code",
   "execution_count": null,
   "metadata": {
    "colab": {
     "base_uri": "https://localhost:8080/"
    },
    "executionInfo": {
     "elapsed": 613,
     "status": "ok",
     "timestamp": 1721493408020,
     "user": {
      "displayName": "Samip Neupane",
      "userId": "08241621723804647931"
     },
     "user_tz": -345
    },
    "id": "O6AjZTTTj0lq",
    "outputId": "8d95ab3c-061d-40dc-a8b1-9d344b6294f4"
   },
   "outputs": [],
   "source": [
    "fruits = [\"apple\", \"banana\", \"cherry\"]\n",
    "for fruit in fruits:\n",
    "    print(\"Fruit:\", fruit)"
   ]
  },
  {
   "cell_type": "markdown",
   "metadata": {
    "id": "0BefBgLt11Zs"
   },
   "source": [
    "## When to Use while and for Loops\n",
    "While both while and for loops can be used to repeat a block of code, they are designed for different use cases.\n",
    "\n",
    "### while Loop\n",
    "Use Case:\n",
    "\n",
    "Use a while loop when you need to repeat a block of code as long as a certain condition is true. <br>\n",
    "This is particularly useful when the number of iterations is not known beforehand."
   ]
  },
  {
   "cell_type": "code",
   "execution_count": null,
   "metadata": {
    "colab": {
     "base_uri": "https://localhost:8080/"
    },
    "executionInfo": {
     "elapsed": 6404,
     "status": "ok",
     "timestamp": 1721493417561,
     "user": {
      "displayName": "Samip Neupane",
      "userId": "08241621723804647931"
     },
     "user_tz": -345
    },
    "id": "r-KuTJW4XEzB",
    "outputId": "616b9a50-74b1-4310-f07c-781129d37af3"
   },
   "outputs": [],
   "source": [
    "while True:\n",
    "  input_no = int(input(\"Enter a number: \"))\n",
    "  if input_no == 0:\n",
    "    break"
   ]
  },
  {
   "cell_type": "code",
   "execution_count": null,
   "metadata": {
    "colab": {
     "base_uri": "https://localhost:8080/"
    },
    "executionInfo": {
     "elapsed": 5,
     "status": "ok",
     "timestamp": 1721493419039,
     "user": {
      "displayName": "Samip Neupane",
      "userId": "08241621723804647931"
     },
     "user_tz": -345
    },
    "id": "eYjTSVVk1u81",
    "outputId": "97a29874-9d9d-45c0-d906-3273bdde2cae"
   },
   "outputs": [],
   "source": [
    "\n",
    "sum = 0\n",
    "count = 1\n",
    "while count <= 10:\n",
    "    sum += count\n",
    "    count += 1\n",
    "print(\"Sum using while loop:\", sum)"
   ]
  },
  {
   "cell_type": "markdown",
   "metadata": {
    "id": "5Eo9SMsY5zNd"
   },
   "source": [
    "### for Loop:\n",
    "Best for iterating over sequences or ranges.<br>\n",
    "Used when the number of iterations is known or can be determined from the start."
   ]
  },
  {
   "cell_type": "code",
   "execution_count": null,
   "metadata": {
    "colab": {
     "base_uri": "https://localhost:8080/"
    },
    "executionInfo": {
     "elapsed": 476,
     "status": "ok",
     "timestamp": 1721493422483,
     "user": {
      "displayName": "Samip Neupane",
      "userId": "08241621723804647931"
     },
     "user_tz": -345
    },
    "id": "k97zm7Qa5tFr",
    "outputId": "f11a1778-a375-4111-97b9-b79b0877aad6"
   },
   "outputs": [],
   "source": [
    "sum = 0\n",
    "for count in range(1, 11):\n",
    "    sum += count\n",
    "\n",
    "print(\"Sum using for loop:\", sum)"
   ]
  },
  {
   "cell_type": "markdown",
   "metadata": {
    "id": "4JMNKjCA7YSn"
   },
   "source": [
    "## Nested Loops\n",
    "Nested loops are loops inside other loops.Think of it like having a loop inside another loop, where each iteration of the outer loop triggers the full execution of the inner loop.\n",
    "\n",
    "### Simple Star Pattern Example\n",
    "Let's use a simple star pattern example to understand nested loops. We'll create a pattern like this\n",
    "```\n",
    "*\n",
    "**\n",
    "***\n",
    "****\n",
    "*****\n",
    "```\n",
    "\n"
   ]
  },
  {
   "cell_type": "code",
   "execution_count": null,
   "metadata": {
    "colab": {
     "base_uri": "https://localhost:8080/"
    },
    "executionInfo": {
     "elapsed": 8,
     "status": "ok",
     "timestamp": 1721493426150,
     "user": {
      "displayName": "Samip Neupane",
      "userId": "08241621723804647931"
     },
     "user_tz": -345
    },
    "id": "hzjz__Xp8z1f",
    "outputId": "915c0af4-b922-4b86-9de5-9928548e356e"
   },
   "outputs": [],
   "source": [
    "for i in range(1, 6):\n",
    "  for j in range (1, i+1):\n",
    "    print(\"*\", end = \"\")\n",
    "  print()\n",
    "\n",
    "\n",
    "#shortcut\n",
    "#for i in range (1, 6):\n",
    "#  print(\"*\" * i)"
   ]
  },
  {
   "cell_type": "markdown",
   "metadata": {
    "id": "FJ5p0UEQlUhE"
   },
   "source": [
    "# 8. Lists"
   ]
  },
  {
   "cell_type": "markdown",
   "metadata": {
    "id": "sDcBerxPC5NK"
   },
   "source": [
    "\n",
    "In Python, a list is a built-in data type used to store a collection of items. These items can be of different types (e.g., integers, strings, floats, etc.), and they are ordered, meaning that each item has a specific position within the list. Lists are mutable, which means you can change, add, or remove items after the list has been created.\n",
    "\n",
    "\n",
    "Key Characteristics of Lists:\n",
    "1. Ordered: Items in a list have a defined order, and this order will not change unless explicitly modified.\n",
    "2. Mutable: You can modify the contents of a list (add, remove, or change items).\n",
    "3. Indexed: Each item in a list has an index, starting from 0 for the first item.\n",
    "4. Dynamic: Lists can grow or shrink in size as needed."
   ]
  },
  {
   "cell_type": "code",
   "execution_count": null,
   "metadata": {
    "id": "xDO3DfiyCvmR"
   },
   "outputs": [],
   "source": [
    "fruits = ['orange', 'apple', 'pear', 'banana', 'kiwi', 'apple', 'banana']"
   ]
  },
  {
   "cell_type": "markdown",
   "metadata": {
    "id": "lZpewv4ZHpa_"
   },
   "source": [
    "## List Indexing"
   ]
  },
  {
   "cell_type": "code",
   "execution_count": null,
   "metadata": {
    "colab": {
     "base_uri": "https://localhost:8080/"
    },
    "executionInfo": {
     "elapsed": 9,
     "status": "ok",
     "timestamp": 1721493431451,
     "user": {
      "displayName": "Samip Neupane",
      "userId": "08241621723804647931"
     },
     "user_tz": -345
    },
    "id": "FAJkZbSXCvo4",
    "outputId": "1e8cfebe-6b09-4a5d-9e27-5a7803abcb81"
   },
   "outputs": [],
   "source": [
    "print(fruits[0])\n",
    "print(fruits[1:3])\n",
    "print(fruits[:])"
   ]
  },
  {
   "cell_type": "markdown",
   "metadata": {
    "id": "67EiPzVyFopK"
   },
   "source": [
    "### QUESTION\n",
    "What will be the output of following code?\n",
    "```\n",
    "fruits = ['orange', 'apple', 'pear', 'banana', 'kiwi', 'apple', 'banana']\n",
    "fruits[-3:-1]\n",
    "```"
   ]
  },
  {
   "cell_type": "code",
   "execution_count": null,
   "metadata": {
    "id": "SuOTfsiDF18P"
   },
   "outputs": [],
   "source": []
  },
  {
   "cell_type": "markdown",
   "metadata": {
    "id": "phvcTJflGJon"
   },
   "source": [
    "## 2D Lists:\n"
   ]
  },
  {
   "cell_type": "code",
   "execution_count": null,
   "metadata": {
    "colab": {
     "base_uri": "https://localhost:8080/"
    },
    "executionInfo": {
     "elapsed": 4,
     "status": "ok",
     "timestamp": 1721493441923,
     "user": {
      "displayName": "Samip Neupane",
      "userId": "08241621723804647931"
     },
     "user_tz": -345
    },
    "id": "F_StgwxYGTDu",
    "outputId": "8edc745d-5d23-460f-d4ef-9ada20aace43"
   },
   "outputs": [],
   "source": [
    "marks = [\n",
    "    [85, 90, 78],\n",
    "    [88, 82, 91],\n",
    "    [92, 87, 85]\n",
    "]\n",
    "\n",
    "second_student_third_subject = marks[1][2]\n",
    "print(second_student_third_subject, \"\\n\")\n",
    "\n",
    "#an example of slicing in 2D lists\n",
    "print(marks[0:2][0:1], \"\\n\")\n",
    "\n",
    "# You can create a list of mixed data type\n",
    "random_list = [None, \"Tech Axis\", 123, 3.14, True, [1, 2, 3], (4, 5, 6), {\"name\":\"Ram\", \"age\": 21}]\n",
    "print(random_list)"
   ]
  },
  {
   "cell_type": "markdown",
   "metadata": {
    "id": "mjdxdvdMKWps"
   },
   "source": [
    "## List methods\n",
    "\n",
    "### append()\n",
    "Adds an item to the end of the list.<br>\n",
    "Syntax:\n",
    "`list.append(item)`\n",
    "\n",
    "### insert()\n",
    "Inserts an item at a specified index.<br>\n",
    "Syntax:\n",
    "`list.insert(index, item)`\n",
    "\n",
    "### remove()\n",
    "Removes the first item with the specified value.<br>\n",
    "Syntax:\n",
    "`list.remove(item)`\n",
    "\n",
    "### pop()\n",
    "Removes the item at the specified position and returns it.<br>\n",
    "If no index is specified, it removes and returns the last item.<br>\n",
    "Syntax:\n",
    "`list.pop([index])`\n",
    "\n",
    "### reverse()\n",
    "Reverses the order of the list.<br>\n",
    "Syntax:\n",
    "`list.reverse()`"
   ]
  },
  {
   "cell_type": "code",
   "execution_count": null,
   "metadata": {
    "colab": {
     "base_uri": "https://localhost:8080/"
    },
    "executionInfo": {
     "elapsed": 466,
     "status": "ok",
     "timestamp": 1721493446999,
     "user": {
      "displayName": "Samip Neupane",
      "userId": "08241621723804647931"
     },
     "user_tz": -345
    },
    "id": "gOuVT7doKdMd",
    "outputId": "1593b9e3-78fe-4c20-8439-834f281e67a2"
   },
   "outputs": [],
   "source": [
    "fruits = ['apple', 'banana', 'cherry']\n",
    "\n",
    "fruits.append('orange')\n",
    "print(fruits, \"\\n\")\n",
    "\n",
    "fruits.insert(1, 'blueberry')\n",
    "print(fruits, \"\\n\")\n",
    "\n",
    "fruits.remove('banana')\n",
    "print(fruits, \"\\n\")\n",
    "\n",
    "fruits.pop(1)\n",
    "print(fruits, \"\\n\")\n",
    "\n",
    "fruits.reverse()\n",
    "print(fruits, \"\\n\")"
   ]
  },
  {
   "cell_type": "markdown",
   "metadata": {
    "id": "FwzrqHHwJBn8"
   },
   "source": [
    "### sort()\n",
    "Sorts the list in ascending order by default.<br>\n",
    "Can also accept a reverse parameter to sort in descending order.<br>\n",
    "Syntax:\n",
    "`list.sort(key=None, reverse=False)`"
   ]
  },
  {
   "cell_type": "code",
   "execution_count": null,
   "metadata": {
    "colab": {
     "base_uri": "https://localhost:8080/"
    },
    "executionInfo": {
     "elapsed": 439,
     "status": "ok",
     "timestamp": 1721493450477,
     "user": {
      "displayName": "Samip Neupane",
      "userId": "08241621723804647931"
     },
     "user_tz": -345
    },
    "id": "-FRbWTvzKfWN",
    "outputId": "17698700-cf89-46c6-94d8-e4b3e9a0a2c1"
   },
   "outputs": [],
   "source": [
    "numbers = [3, 1, 4, 1, 5, 9]\n",
    "\n",
    "# Sorting in ascending order\n",
    "numbers.sort()\n",
    "print(numbers)\n",
    "\n",
    "# Sorting in descending order\n",
    "numbers.sort(reverse = True)\n",
    "print(numbers)"
   ]
  },
  {
   "cell_type": "markdown",
   "metadata": {
    "id": "v2IgSxTYcvkg"
   },
   "source": [
    "## Unpacking\n",
    "Unpacking in Python is the process of extracting individual elements from a collection (such as a list, tuple, or set) and assigning them to corresponding variables in a single assignment statement."
   ]
  },
  {
   "cell_type": "code",
   "execution_count": null,
   "metadata": {
    "colab": {
     "base_uri": "https://localhost:8080/"
    },
    "executionInfo": {
     "elapsed": 8,
     "status": "ok",
     "timestamp": 1721493452732,
     "user": {
      "displayName": "Samip Neupane",
      "userId": "08241621723804647931"
     },
     "user_tz": -345
    },
    "id": "xZnT8OGVcuf9",
    "outputId": "ca2438b2-6542-4624-f5d3-8c30efe29ec5"
   },
   "outputs": [],
   "source": [
    "fruits = ['apple', 'banana', 'cherry', 'orange', 'mango']\n",
    "\n",
    "# Unpacking\n",
    "x, y, *z = fruits\n",
    "print(x)\n",
    "print(y)\n",
    "print(z)\n",
    "\n",
    "print()\n",
    "# Unpacking 2.0\n",
    "p, *q, r = fruits\n",
    "print(p)\n",
    "print(q)\n",
    "print(r)"
   ]
  },
  {
   "cell_type": "markdown",
   "metadata": {
    "id": "LCpblMAVhV8R"
   },
   "source": [
    "### QUESTION\n",
    "What will the output of following code:\n",
    "```\n",
    "list_a = [1, 2, 3, 4, 5]\n",
    "\n",
    "list_b = list_a\n",
    "list_b.append(6)\n",
    "\n",
    "print(list_a)\n",
    "print(list_b)\n",
    "```"
   ]
  },
  {
   "cell_type": "code",
   "execution_count": null,
   "metadata": {
    "id": "VS2UjJWjhw65"
   },
   "outputs": [],
   "source": []
  },
  {
   "cell_type": "markdown",
   "metadata": {
    "id": "ZlfCzuNMlYS1"
   },
   "source": [
    "# 9. Tuples"
   ]
  },
  {
   "cell_type": "markdown",
   "metadata": {
    "id": "LpIdB1FWK5Qx"
   },
   "source": [
    "\n",
    "\n",
    "A tuple is an ordered, immutable collection of items. Tuples are similar to lists in that they can store a collection of items, but unlike lists, tuples cannot be modified after they are created. This immutability makes tuples useful for storing data that should not change throughout the program.\n",
    "\n",
    "Key Characteristics of Tuples:\n",
    "1. Ordered: Items have a defined order and that order will not change.\n",
    "2. Immutable: Once created, the items in a tuple cannot be changed, added, or removed.\n",
    "3. Indexed: Each item in a tuple has an index, starting from 0.\n",
    "4. Heterogeneous: Can contain items of different types (integers, strings, floats, etc.).\n"
   ]
  },
  {
   "cell_type": "markdown",
   "metadata": {
    "id": "4YwEUeiLLb99"
   },
   "source": [
    "## Creating Tuple"
   ]
  },
  {
   "cell_type": "code",
   "execution_count": null,
   "metadata": {
    "id": "gxK2wUbWK8z3"
   },
   "outputs": [],
   "source": [
    "# A tuple of integers\n",
    "numbers = (1, 2, 3, 4, 5)\n",
    "\n",
    "# A tuple of strings\n",
    "fruits = ('apple', 'banana', 'cherry')\n",
    "\n",
    "# A tuple with mixed data types\n",
    "mixed_tuple = (1, 'apple', 3.14, True)\n",
    "\n",
    "# A tuple with one item (requires a trailing comma)\n",
    "single_item_tuple = (42,)\n",
    "\n",
    "# An empty tuple\n",
    "empty_tuple = ()"
   ]
  },
  {
   "cell_type": "markdown",
   "metadata": {
    "id": "bvembUzJL0jo"
   },
   "source": [
    "Note: Indexing in Tuple is same as that of List.\n",
    "\n",
    "Tuples, like lists, are ordered collections and allow indexing to access individual elements. Since tuples are immutable, you cannot change their elements after creation, but you can access them using their index."
   ]
  },
  {
   "cell_type": "markdown",
   "metadata": {
    "id": "DlCQaYmYLXdd"
   },
   "source": [
    "## Tuple Methods\n",
    "\n",
    "### count(): Returns the number of times a specified value appears in the tuple.\n",
    "Syntax:\n",
    "`tuple.count(value)`\n",
    "\n",
    "### index(): Returns the index of the first occurrence of the specified value.\n",
    "Syntax:\n",
    "`tuple.index(value)`"
   ]
  },
  {
   "cell_type": "code",
   "execution_count": null,
   "metadata": {
    "colab": {
     "base_uri": "https://localhost:8080/"
    },
    "executionInfo": {
     "elapsed": 9,
     "status": "ok",
     "timestamp": 1721493466681,
     "user": {
      "displayName": "Samip Neupane",
      "userId": "08241621723804647931"
     },
     "user_tz": -345
    },
    "id": "cjG_Kt_GMiVH",
    "outputId": "3bb84b9c-0783-40e1-8091-fabfb832bd8f"
   },
   "outputs": [],
   "source": [
    "fruits = ('apple', 'banana', 'cherry', 'apple', 'orange')\n",
    "\n",
    "print(fruits.count('apple'))\n",
    "print(fruits.index('banana'))"
   ]
  },
  {
   "cell_type": "markdown",
   "metadata": {
    "id": "ays8MsThMPV-"
   },
   "source": []
  },
  {
   "cell_type": "markdown",
   "metadata": {
    "id": "WV4HUc6SMPbb"
   },
   "source": [
    "### QUESTION\n",
    "Which of the following methods are correct for tuples:\n",
    "\n",
    "```\n",
    "all_tuples = (\"software\", \"fellowship\", 3.14, True)\n",
    "\n",
    "all_tuples.append(None)\n",
    "all_tuples.remove(\"software\")\n",
    "```"
   ]
  },
  {
   "cell_type": "code",
   "execution_count": null,
   "metadata": {
    "id": "z6JcEEfbfogd"
   },
   "outputs": [],
   "source": []
  },
  {
   "cell_type": "markdown",
   "metadata": {
    "id": "wEXVIWlwMPY0"
   },
   "source": [
    "## Mutable vs Immutable Objects: Tuples are Immutable\n",
    "**Mutable Objects:**\n",
    "\n",
    "Mutable objects can be changed after they are created.\n",
    "Examples include <br>\n",
    "`List, Dictionary, Set, bytearray`\n",
    "\n",
    "**Immutable Objects:**\n",
    "\n",
    "Immutable objects cannot be changed after they are created.\n",
    "Examples include <br>\n",
    "`int, float, bool, str, tuple, frozenset, bytes`\n",
    "\n",
    "**Why Tuples are Immutable:**\n",
    "1. Tuples are designed to be immutable for several reasons:\n",
    "\n",
    "2. Safety: Once created, the data cannot be altered, reducing bugs and unintended side effects.\n",
    "3. Hashability: Immutable objects can be used as keys in dictionaries and as elements of sets because they are hashable.\n",
    "4. Performance: Tuples can be faster than lists when iterating through items because they are fixed in size."
   ]
  },
  {
   "cell_type": "code",
   "execution_count": null,
   "metadata": {
    "colab": {
     "base_uri": "https://localhost:8080/"
    },
    "executionInfo": {
     "elapsed": 8,
     "status": "ok",
     "timestamp": 1721493472508,
     "user": {
      "displayName": "Samip Neupane",
      "userId": "08241621723804647931"
     },
     "user_tz": -345
    },
    "id": "EgoZYeZgf6Ui",
    "outputId": "f2801ebd-a0b6-4b04-be53-83d052a1f300"
   },
   "outputs": [],
   "source": [
    "string_ex = \"software\"\n",
    "\n",
    "# Trying to change it directly (this won't work)\n",
    "#string_ex[0] = \"S\"\n",
    "print(string_ex)\n",
    "\n",
    "# Creating a new string instead\n",
    "new_string = \"S\" + string_ex[1:]\n",
    "print(new_string)"
   ]
  },
  {
   "cell_type": "markdown",
   "metadata": {
    "id": "wpuoUGdalbYY"
   },
   "source": [
    "# 10. Sets in Python"
   ]
  },
  {
   "cell_type": "markdown",
   "metadata": {
    "id": "f_47VwxcMPgX"
   },
   "source": [
    "\n",
    "\n",
    "A set is an unordered collection of unique elements. Sets are used when the presence of an element is more important than the order or the number of times it appears.\n",
    "\n",
    "Key Characteristics of Sets:\n",
    "1. Unordered: The items have no defined order.\n",
    "2. Unique: Duplicate items are not allowed.\n",
    "3. Mutable: You can add or remove items from a set.\n",
    "4. Iterable: You can loop through the items in a set.\n",
    "\n",
    "## Creating Sets"
   ]
  },
  {
   "cell_type": "code",
   "execution_count": null,
   "metadata": {
    "id": "5QgCArvBK33C"
   },
   "outputs": [],
   "source": [
    "# Creating a set of fruits\n",
    "fruits = {'apple', 'banana', 'cherry'}\n",
    "\n",
    "# Creating an empty set\n",
    "empty_set = set()"
   ]
  },
  {
   "cell_type": "markdown",
   "metadata": {
    "id": "2dN0AZFDMPit"
   },
   "source": [
    "Set Methods:\n",
    "1. add(): Adds an element to the set.\n",
    "2. remove(): Removes a specific element from the set. Raises an error if the element is not found.\n",
    "3. discard(): Removes a specific element from the set. Does not raise an error if the element is not found.\n",
    "4. pop(): Removes and returns an arbitrary element from the set.\n",
    "5. clear(): Removes all elements from the set.\n",
    "6. union(): Returns a set that is the union of sets.\n",
    "7. intersection(): Returns a set that is the intersection of sets.\n",
    "8. difference(): Returns a set containing the difference between two or more sets."
   ]
  },
  {
   "cell_type": "code",
   "execution_count": null,
   "metadata": {
    "colab": {
     "base_uri": "https://localhost:8080/"
    },
    "executionInfo": {
     "elapsed": 481,
     "status": "ok",
     "timestamp": 1721493490635,
     "user": {
      "displayName": "Samip Neupane",
      "userId": "08241621723804647931"
     },
     "user_tz": -345
    },
    "id": "aNvkMmYVLLnV",
    "outputId": "2a8f78b5-ff06-4600-a706-23d929189040"
   },
   "outputs": [],
   "source": [
    "fruits = {'apple', 'banana', 'cherry'}\n",
    "\n",
    "# Add an element\n",
    "fruits.add('orange')\n",
    "print(fruits)\n",
    "\n",
    "# Remove an element\n",
    "fruits.remove('banana')\n",
    "print(fruits)"
   ]
  },
  {
   "cell_type": "code",
   "execution_count": null,
   "metadata": {
    "colab": {
     "base_uri": "https://localhost:8080/"
    },
    "executionInfo": {
     "elapsed": 459,
     "status": "ok",
     "timestamp": 1721493495103,
     "user": {
      "displayName": "Samip Neupane",
      "userId": "08241621723804647931"
     },
     "user_tz": -345
    },
    "id": "rGdMEG7PjtUF",
    "outputId": "e74102c4-330f-4c2d-df55-8a4626f07ae2"
   },
   "outputs": [],
   "source": [
    "tropical_fruits = {'mango', 'pineapple', 'banana'}\n",
    "fruits = {'apple', 'banana', 'cherry'}\n",
    "\n",
    "# Union of sets\n",
    "all_fruits = fruits.union(tropical_fruits)\n",
    "print(all_fruits)\n",
    "\n",
    "# Intersection of sets\n",
    "common_fruits = fruits.intersection(tropical_fruits)\n",
    "print(common_fruits)  # Output: {'banana'}"
   ]
  },
  {
   "cell_type": "markdown",
   "metadata": {
    "id": "QktzDmgSld39"
   },
   "source": [
    "# 11. Dictionaries in Python"
   ]
  },
  {
   "cell_type": "markdown",
   "metadata": {
    "id": "YaeP-Ad9N8WR"
   },
   "source": [
    "\n",
    "\n",
    "A dictionary is an unordered collection of key-value pairs. Each key must be unique and immutable, while the values can be of any data type and can be duplicated.\n",
    "\n",
    "Key Characteristics of Dictionaries:\n",
    "1. Unordered: The items have no defined order.\n",
    "2. Mutable: You can add, remove, or change items.\n",
    "3. Keys: Must be unique and immutable (e.g., strings, numbers, tuples).\n",
    "4. Values: Can be of any data type and can be duplicated.\n",
    "\n",
    "## Creating Dictionary"
   ]
  },
  {
   "cell_type": "code",
   "execution_count": null,
   "metadata": {
    "colab": {
     "base_uri": "https://localhost:8080/"
    },
    "executionInfo": {
     "elapsed": 484,
     "status": "ok",
     "timestamp": 1721493498397,
     "user": {
      "displayName": "Samip Neupane",
      "userId": "08241621723804647931"
     },
     "user_tz": -345
    },
    "id": "WNc6ib9gLqs5",
    "outputId": "a6170fc4-9a04-43d9-a835-9e369dd1dd67"
   },
   "outputs": [],
   "source": [
    "# Creating a dictionary of fruits and their prices\n",
    "fruit_prices = {'apple': 0.99,\n",
    "                'banana': 0.59,\n",
    "                'cherry': 2.99}\n",
    "\n",
    "# Creating an empty dictionary\n",
    "empty_dict = {}\n",
    "\n",
    "print(fruit_prices)\n",
    "print(empty_dict)"
   ]
  },
  {
   "cell_type": "markdown",
   "metadata": {
    "id": "AU_R3TKMLqXi"
   },
   "source": [
    "### Dictionary Methods:\n",
    "1. keys(): Returns a view object containing the keys of the dictionary.\n",
    "2. values(): Returns a view object containing the values of the dictionary.\n",
    "3. items(): Returns a view object containing the key-value pairs of the dictionary.\n",
    "4. get(): Returns the value for a specified key. Returns None if the key is not found.\n",
    "5. update(): Updates the dictionary with the specified key-value pairs.\n",
    "6. pop(): Removes the specified key and returns the corresponding value.\n",
    "7. clear(): Removes all items from the dictionary.\n"
   ]
  },
  {
   "cell_type": "code",
   "execution_count": null,
   "metadata": {
    "colab": {
     "base_uri": "https://localhost:8080/"
    },
    "executionInfo": {
     "elapsed": 788,
     "status": "ok",
     "timestamp": 1721493502131,
     "user": {
      "displayName": "Samip Neupane",
      "userId": "08241621723804647931"
     },
     "user_tz": -345
    },
    "id": "xk2JwIsCL5ZQ",
    "outputId": "4bd293a3-7f7a-415b-8ec1-6863b792a0ae"
   },
   "outputs": [],
   "source": [
    "fruit_prices = {'apple': 0.99,\n",
    "                'banana': 0.59,\n",
    "                'cherry': 2.99}\n",
    "\n",
    "# Get all keys\n",
    "print(fruit_prices.keys())\n",
    "\n",
    "# Get all values\n",
    "print(fruit_prices.values())\n",
    "\n",
    "# Get all items\n",
    "print(fruit_prices.items(), \"\\n\")\n",
    "\n",
    "\n",
    "\n",
    "# Add a new fruit and its price\n",
    "fruit_prices.update({'orange': 1.29})\n",
    "print(fruit_prices)\n",
    "\n",
    "# Remove a fruit and its price\n",
    "price_of_banana = fruit_prices.pop('banana')\n",
    "print(fruit_prices)\n",
    "print(price_of_banana)\n",
    "\n",
    "# Clear all items from the dictionary\n",
    "fruit_prices.clear()\n",
    "print(fruit_prices)\n"
   ]
  }
 ],
 "metadata": {
  "colab": {
   "collapsed_sections": [
    "Tyi3ADg1k_Kb",
    "8Kq8b8j2lCRf",
    "Eap0oe3ulFlK",
    "gqRiowXelIi6",
    "Gmic3PW8lLe5",
    "Q6fxQnqElOIv",
    "seAUD-HZlROw",
    "FJ5p0UEQlUhE",
    "ZlfCzuNMlYS1",
    "wpuoUGdalbYY",
    "QktzDmgSld39"
   ],
   "provenance": []
  },
  "kernelspec": {
   "display_name": "Python 3 (ipykernel)",
   "language": "python",
   "name": "python3"
  },
  "language_info": {
   "codemirror_mode": {
    "name": "ipython",
    "version": 3
   },
   "file_extension": ".py",
   "mimetype": "text/x-python",
   "name": "python",
   "nbconvert_exporter": "python",
   "pygments_lexer": "ipython3",
   "version": "3.11.5"
  }
 },
 "nbformat": 4,
 "nbformat_minor": 1
}
