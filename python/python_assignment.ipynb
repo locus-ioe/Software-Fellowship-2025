{
 "cells": [
  {
   "cell_type": "markdown",
   "metadata": {
    "id": "jts-YojnwPBh"
   },
   "source": [
    "# Python Assignments\n",
    "\n",
    "### Question 1: Rock, Paper, Scissors Game\n",
    "\n",
    "Write code for a Rock, Paper, Scissors game using the `random` module in Python.\n",
    "- The program should randomly select an option for the computer.\n",
    "- Compare it with the user's choice to determine the winner.\n",
    "\n",
    "Example output:\n",
    "```\n",
    "User: scissors\n",
    "Computer: paper\n",
    "User Won!\n",
    "```"
   ]
  },
  {
   "cell_type": "code",
   "execution_count": null,
   "metadata": {
    "executionInfo": {
     "elapsed": 10,
     "status": "ok",
     "timestamp": 1721401525332,
     "user": {
      "displayName": "Samip Neupane",
      "userId": "08241621723804647931"
     },
     "user_tz": -345
    },
    "id": "FF0hczY-wLI_"
   },
   "outputs": [],
   "source": [
    "# code here"
   ]
  },
  {
   "cell_type": "markdown",
   "metadata": {
    "id": "7btGgExFwQBl"
   },
   "source": [
    "### Question 2: Filtering and Sorting Lists\n",
    "\n",
    "Filter and sort the elements into three separate lists in ascending order:\n",
    "\n",
    "`int_list_sorted: `\n",
    "A list of integers sorted in ascending order.\n",
    "\n",
    "`float_list_sorted: `\n",
    "A list of floats sorted in ascending order.\n",
    "\n",
    "`string_list_sorted: `\n",
    "A list of strings sorted in ascending order.\n",
    "```\n",
    "example_list = [1, \"ram\", 3.54, None, 3, \"Sita\", True, 6, \"Hari\", 4.66, False, None, -12, 67.4, 100, \"Ram\", True]\n",
    "```"
   ]
  },
  {
   "cell_type": "code",
   "execution_count": null,
   "metadata": {
    "executionInfo": {
     "elapsed": 472,
     "status": "ok",
     "timestamp": 1721401528187,
     "user": {
      "displayName": "Samip Neupane",
      "userId": "08241621723804647931"
     },
     "user_tz": -345
    },
    "id": "LDTq_7lhwQK3"
   },
   "outputs": [],
   "source": [
    "# code here"
   ]
  },
  {
   "cell_type": "markdown",
   "metadata": {
    "id": "A06mw1n3wQT1"
   },
   "source": [
    "### Question 3: Convert While Loop to For Loop\n",
    "Convert the following while loop to a for loop:\n",
    "```\n",
    "odd_list = [num for num in range(11, 21, 2)]\n",
    "prime_list = [11, 13, 17, 19]\n",
    "\n",
    "i = 0\n",
    "while i < len(odd_list):\n",
    "\n",
    "  if odd_list[i] % 2 != 0:\n",
    "    print(f\"\\n{odd_list[i]} is an odd number:\")\n",
    "\n",
    "    j = 0\n",
    "    while j < len(prime_list):\n",
    "\n",
    "      if odd_list[i] == prime_list[j]:\n",
    "        print(\"It is also a prime number\")\n",
    "        break\n",
    "\n",
    "      j += 1\n",
    "  i += 1\n",
    "```"
   ]
  },
  {
   "cell_type": "code",
   "execution_count": null,
   "metadata": {
    "executionInfo": {
     "elapsed": 9,
     "status": "ok",
     "timestamp": 1721401531196,
     "user": {
      "displayName": "Samip Neupane",
      "userId": "08241621723804647931"
     },
     "user_tz": -345
    },
    "id": "PVF_fT_iwQaw"
   },
   "outputs": [],
   "source": [
    "# code here"
   ]
  },
  {
   "cell_type": "markdown",
   "metadata": {
    "id": "IYzgwaAXFv0X"
   },
   "source": [
    "### Question 4:\n",
    "Write a Python program that prints the numbers from 1 to 50. For multiples of 3, print \"Tech\" instead of the number, and for multiples of 5, print \"Axis\". For numbers which are multiples of both 3 and 5, print \"TechAxis\".\n",
    "\n",
    "```\n",
    "Expected Output:\n",
    "1, 2, Tech, 4, Axis, Tech, 7, 8, Tech, Axis, 11, Tech, 13, 14, TechAxis ....\n",
    "```\n"
   ]
  },
  {
   "cell_type": "code",
   "execution_count": null,
   "metadata": {
    "executionInfo": {
     "elapsed": 460,
     "status": "ok",
     "timestamp": 1721401533907,
     "user": {
      "displayName": "Samip Neupane",
      "userId": "08241621723804647931"
     },
     "user_tz": -345
    },
    "id": "J7OImmVPFurm"
   },
   "outputs": [],
   "source": [
    "#Code here"
   ]
  },
  {
   "cell_type": "markdown",
   "metadata": {
    "id": "aHI9EMeeGo5u"
   },
   "source": [
    "### Question 5:\n",
    "Write a Python program that functions as a simple calculator. It should be able to perform addition, subtraction, multiplication, and division operations.<br>\n",
    "Use function for each operations.<br>\n",
    "Try exception handling for division by zero error.\n",
    "\n",
    "Example Output:\n",
    "```\n",
    "operation = divide\n",
    "x = 5\n",
    "y = 2\n",
    "Result: 2.5\n",
    "```"
   ]
  },
  {
   "cell_type": "code",
   "execution_count": null,
   "metadata": {
    "executionInfo": {
     "elapsed": 7,
     "status": "ok",
     "timestamp": 1721401536273,
     "user": {
      "displayName": "Samip Neupane",
      "userId": "08241621723804647931"
     },
     "user_tz": -345
    },
    "id": "7REOUb_8Gk8j"
   },
   "outputs": [],
   "source": [
    "#code here"
   ]
  }
 ],
 "metadata": {
  "colab": {
   "provenance": []
  },
  "kernelspec": {
   "display_name": "Python 3 (ipykernel)",
   "language": "python",
   "name": "python3"
  },
  "language_info": {
   "codemirror_mode": {
    "name": "ipython",
    "version": 3
   },
   "file_extension": ".py",
   "mimetype": "text/x-python",
   "name": "python",
   "nbconvert_exporter": "python",
   "pygments_lexer": "ipython3",
   "version": "3.11.5"
  }
 },
 "nbformat": 4,
 "nbformat_minor": 1
}
